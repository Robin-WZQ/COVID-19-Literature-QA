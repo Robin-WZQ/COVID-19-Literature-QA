{
 "cells": [
  {
   "cell_type": "markdown",
   "metadata": {},
   "source": [
    "## Text Mining by Word Representation\n",
    "\n",
    "### 任务描述\n",
    "\n",
    "本次实验需要针对一百万篇疫情相关论文进行文本挖掘。具体的，根据用户提供的问句进行内容检索，并以适当形式展示。\n",
    "\n",
    "其中，使用聚类方法完成文献检索部分。问答仍然采用bio-bert。\n",
    "\n",
    "### 实验流程\n",
    "\n",
    "- 我主要复现了老师写在PPT中的这篇论文的工作：\n",
    "\n",
    "<div align=center>\n",
    "<img src=\"pic2\\1.png\" style=\"zoom:45%\" />\n",
    "</div>\n",
    "\n",
    "论文来源：https://aclanthology.org/2020.nlpcovid19-acl.7.pdf\n",
    "\n",
    "- 下图展示了本文的实验流程：\n",
    "\n",
    "<div align=center>\n",
    "<img src=\"pic2\\2.png\" style=\"zoom:20%\" />\n",
    "</div>\n",
    "\n",
    "模型分为**在线**和**离线**两部分，离线阶段将原始文献根据引用关系构建**无向图**，并对其进行**ego-splitting** ，得到**有重叠聚类**结果。之后保留簇中文章数大于1000的文章作为**关键簇**，从每个关键簇中进行**随机采样**并将采样结果进行**biobert表示**，已代表各簇；将query同样利用biobert进行表示，计算其与各簇间的**平均相似性**，其中距离度量手段为**余弦相似度**，随机选择最相似簇中的文章以作为候选文章，并对其QA。"
   ]
  },
  {
   "cell_type": "markdown",
   "metadata": {},
   "source": [
    "由于原论文没有开源，所以我从零复现了代码。首先介绍一下我对原始论文步骤的改动：\n",
    "- 原论文使用了全部文献构建无向图，我这里只选用被引文献出版年份大于等于2020年的文献（这些文献不一定在metadata.csv中出现）。由于2020年前出版的文献数量上不及近三年文献，而且我认为使用全部文献会额外引入噪声，降低聚类效果，因此舍掉了那部分；\n",
    "- 据我统计，在2020年及以后发表的文献中，仅有365篇互相引用。为了弥补这方面的缺失（我认为），论文使用Sen2Vec对题目进行嵌入，并将所有节点（节点代表文献）进行相似度计算，将超过阈值的两篇文献连接。但是我在复现过程中发现，一是Sen2Vec核心代码目前只支持Linux版本，二是最终有七十多万个节点，算法的复杂度太高我电脑处理不了，所以舍弃这一步；\n",
    "- 作者对原始论文进行聚类后，对于输入的query分配到最相似簇中。然而，作者并没有描述这一过程的执行细节。首先，原图经ego-splitting后会产生数千个簇，而据我统计这些簇中文献个数也迥然不同。举例来讲，有些簇中文献数目高到上万，有些簇中文献数不及100。因此，我对原始簇进行筛选，只保留了簇内文献数大于等于1000的簇作为“关键簇”，最终共有137个关键簇；\n",
    "- “关键簇”中文献数目也很多，将所有进行表示也不现实。为了加快运行时间，我对关键簇中文献进行随机采样，选出100篇进行表示，并计算与问句的平局相似性，其中距离度量手段为余弦相似度。最终，返回最相似的10个簇进行QA；"
   ]
  },
  {
   "cell_type": "markdown",
   "metadata": {},
   "source": [
    "关于数据分析以及问答部分，和第一次作业完全相同，因此在这里不加赘述。"
   ]
  },
  {
   "cell_type": "markdown",
   "metadata": {},
   "source": [
    "### 实验过程\n",
    "\n",
    "#### 1. 导入第三方库"
   ]
  },
  {
   "cell_type": "code",
   "execution_count": 1,
   "metadata": {},
   "outputs": [
    {
     "name": "stderr",
     "output_type": "stream",
     "text": [
      "e:\\anaconda\\envs\\biobert\\lib\\site-packages\\tqdm\\auto.py:22: TqdmWarning: IProgress not found. Please update jupyter and ipywidgets. See https://ipywidgets.readthedocs.io/en/stable/user_install.html\n",
      "  from .autonotebook import tqdm as notebook_tqdm\n"
     ]
    }
   ],
   "source": [
    "'''\n",
    "@ author: 王中琦\n",
    "@ date: 2022/5/4\n",
    "'''\n",
    "import pandas as pd\n",
    "import json\n",
    "import os\n",
    "import sys\n",
    "import networkx as nx\n",
    "import community as community_louvain\n",
    "import matplotlib.pyplot as plt\n",
    "from langdetect import detect\n",
    "import torch\n",
    "from transformers import  AutoTokenizer,AutoModelForQuestionAnswering\n",
    "from warnings import filterwarnings\n",
    "filterwarnings(\"ignore\")\n",
    "\n",
    "plt.rcParams[\"font.sans-serif\"]=[\"SimHei\"] #设置字体\n",
    "%matplotlib inline"
   ]
  },
  {
   "cell_type": "markdown",
   "metadata": {},
   "source": [
    "#### 2. 数据清洗"
   ]
  },
  {
   "cell_type": "code",
   "execution_count": 2,
   "metadata": {},
   "outputs": [
    {
     "name": "stdout",
     "output_type": "stream",
     "text": [
      "原有数据： (1015768, 7)\n",
      "数据清洗后： (352435, 7)\n"
     ]
    }
   ],
   "source": [
    "def search_focus(df):\n",
    "    '''\n",
    "    仅保留包含关键词语的论文\n",
    "    '''\n",
    "    dfa = df[df['abstract'].str.contains('covid')]\n",
    "    dfb = df[df['abstract'].str.contains('-cov-2')]\n",
    "    dfc = df[df['abstract'].str.contains('cov2')]\n",
    "    dfd = df[df['abstract'].str.contains('ncov')]\n",
    "    frames=[dfa,dfb,dfc,dfd]\n",
    "    df = pd.concat(frames)\n",
    "    df=df.drop_duplicates(subset='title', keep=\"first\")\n",
    "    return df\n",
    "\n",
    "def year_focus(df):\n",
    "    '''\n",
    "    仅保留2020年及以后的论文\n",
    "    '''\n",
    "    dfa = df[df['publish_time'].str.contains('2020')]\n",
    "    dfb = df[df['publish_time'].str.contains('2021')]\n",
    "    dfc = df[df['publish_time'].str.contains('2022')]\n",
    "    frames=[dfa,dfb,dfc]\n",
    "    df = pd.concat(frames)\n",
    "    df=df.drop_duplicates(subset='title', keep=\"first\")\n",
    "    return df \n",
    "\n",
    "# 装载数据\n",
    "df=pd.read_csv('metadata.csv', usecols=['title','journal','abstract','authors','doi','publish_time','sha'])\n",
    "print(\"原有数据：\",df.shape)\n",
    "# 填充缺省值\n",
    "df=df.fillna('N/A')\n",
    "# 数据去重\n",
    "df = df.drop_duplicates(subset='title', keep=\"first\")\n",
    "# 将字符变小写\n",
    "df[\"abstract\"] = df[\"abstract\"].str.lower()\n",
    "df[\"title\"] = df[\"title\"].str.lower()\n",
    "df = search_focus(df)\n",
    "df = year_focus(df)\n",
    "print(\"数据清洗后：\",df.shape)"
   ]
  },
  {
   "cell_type": "markdown",
   "metadata": {},
   "source": [
    "#### 3. 聚类"
   ]
  },
  {
   "cell_type": "markdown",
   "metadata": {},
   "source": [
    "##### 3.1 paper->id"
   ]
  },
  {
   "cell_type": "code",
   "execution_count": 11,
   "metadata": {},
   "outputs": [
    {
     "name": "stdout",
     "output_type": "stream",
     "text": [
      "[Done 377057/377057]"
     ]
    }
   ],
   "source": [
    "def paper2id():\n",
    "    '''\n",
    "    这段代码只用运行一次就可以了,将所有论文转换为id序列\n",
    "    '''\n",
    "    folder_path = \"pdf_json\"\n",
    "    file_names = os.listdir(folder_path)\n",
    "    all_paper = {}\n",
    "    num=0\n",
    "    for file_name in file_names:\n",
    "        num+=1\n",
    "        with open('pdf_json/'+file_name) as json_file:\n",
    "            file = json.load(json_file)\n",
    "            all_bib = file['bib_entries']\n",
    "            for key, value in all_bib.items():\n",
    "                try: # 异常解决年份为None情况\n",
    "                    if all_bib[key][\"year\"]>=2020:\n",
    "                        if all_bib[key][\"title\"] not in all_paper:\n",
    "                            all_paper[all_bib[key][\"title\"]] = len(all_paper)\n",
    "                except:\n",
    "                    pass\n",
    "\n",
    "        sys.stdout.write(\n",
    "                \"\\r[Done %d/%d]\"                                                                                                                                                                                                                                                                                                                                                                                                                                                                                                                                                                                                                                                                                                                                                                                                                                                                                                                                                                                                                                                                               \n",
    "                % (num, len(file_names))\n",
    "            )\n",
    "        \n",
    "    with open(\"paper2id.json\", \"w\", encoding='utf8') as f:\n",
    "        f.write(json.dumps(all_paper, ensure_ascii=False, indent=4, separators=(',', ':')))\n",
    "\n",
    "# paper2id()\n"
   ]
  },
  {
   "cell_type": "markdown",
   "metadata": {},
   "source": [
    "##### 3.2 id->paper"
   ]
  },
  {
   "cell_type": "code",
   "execution_count": 12,
   "metadata": {},
   "outputs": [],
   "source": [
    "def id2paper():\n",
    "    '''\n",
    "    这段代码只用运行一次就可以了,将id序列转换为所有论文\n",
    "    '''\n",
    "    with open(\"paper2id.json\",'r', encoding='utf8') as f:\n",
    "        paper_to_id = json.load(f)\n",
    "\n",
    "    id2paper = {}\n",
    "    num=0\n",
    "    for key,value in paper_to_id.items():\n",
    "        id2paper[str(paper_to_id[key])] = key\n",
    "        num+=1\n",
    "\n",
    "        sys.stdout.write(\n",
    "            \"\\r[Done %d/%d]\"                                                                                                                                                                                                                                                                                                                                                                                                                                                                                                                                                                                                                                                                                                                                                                                                                                                                                                                                                                                                                                                                               \n",
    "            % (num, len(paper_to_id))\n",
    "        )\n",
    "\n",
    "    with open(\"id2paper.json\", \"w\", encoding='utf8') as f:\n",
    "        f.write(json.dumps(id2paper, ensure_ascii=False, indent=4, separators=(',', ':')))\n",
    "\n",
    "# id2paper()"
   ]
  },
  {
   "cell_type": "markdown",
   "metadata": {},
   "source": [
    "##### 3.3 将聚类结果的类命名"
   ]
  },
  {
   "cell_type": "markdown",
   "metadata": {},
   "source": [
    "具体的ego-splitting聚类代码来自：https://github.com/benedekrozemberczki/EgoSplitting\n",
    "\n",
    "我将我构建的无向图（paper_edges.csv）变成该模型适应的输入格式，得到paper_cluster_memberships.json（聚类结果）\n",
    "\n",
    "为了更好地进行筛选，这里选择簇中文献超出1000篇的文献簇，作为关键簇"
   ]
  },
  {
   "cell_type": "code",
   "execution_count": 17,
   "metadata": {},
   "outputs": [
    {
     "name": "stdout",
     "output_type": "stream",
     "text": [
      "[Done 50000/791881]\n",
      "[Done 100000/791881]\n",
      "[Done 150000/791881]\n",
      "[Done 200000/791881]\n",
      "[Done 250000/791881]\n",
      "[Done 300000/791881]\n",
      "[Done 350000/791881]\n",
      "[Done 400000/791881]\n",
      "[Done 450000/791881]\n",
      "[Done 500000/791881]\n",
      "[Done 550000/791881]\n",
      "[Done 600000/791881]\n",
      "[Done 650000/791881]\n",
      "[Done 700000/791881]\n",
      "[Done 750000/791881]\n",
      "共有150类\n",
      "9265\n",
      "13263\n",
      "86663\n",
      "2800\n",
      "64149\n",
      "11275\n",
      "11985\n",
      "8223\n",
      "8322\n",
      "7669\n",
      "9817\n",
      "16291\n",
      "13475\n",
      "17841\n",
      "18612\n",
      "7136\n",
      "22212\n",
      "11880\n",
      "15589\n",
      "13555\n",
      "16587\n",
      "16482\n",
      "13568\n",
      "12792\n",
      "13403\n",
      "14189\n",
      "17303\n",
      "19587\n",
      "7376\n",
      "12351\n",
      "15970\n",
      "3968\n",
      "14363\n",
      "5169\n",
      "14732\n",
      "17071\n",
      "17400\n",
      "10855\n",
      "10368\n",
      "20632\n",
      "15572\n",
      "4965\n",
      "8809\n",
      "4522\n",
      "6575\n",
      "3468\n",
      "8180\n",
      "8897\n",
      "4697\n",
      "142466\n",
      "1690\n",
      "12859\n",
      "6341\n",
      "104066\n",
      "10390\n",
      "4972\n",
      "5836\n",
      "6627\n",
      "10498\n",
      "11322\n",
      "14814\n",
      "3770\n",
      "14151\n",
      "11837\n",
      "16055\n",
      "10974\n",
      "4215\n",
      "7740\n",
      "7607\n",
      "6502\n",
      "6431\n",
      "9708\n",
      "14358\n",
      "4192\n",
      "9194\n",
      "9679\n",
      "6458\n",
      "9588\n",
      "7601\n",
      "6239\n",
      "6005\n",
      "5661\n",
      "4943\n",
      "16506\n",
      "6599\n",
      "6511\n",
      "9030\n",
      "10995\n",
      "13255\n",
      "5119\n",
      "13659\n",
      "4106\n",
      "4084\n",
      "12361\n",
      "11581\n",
      "16980\n",
      "6467\n",
      "5902\n",
      "6723\n",
      "3426\n",
      "3786\n",
      "6348\n",
      "13824\n",
      "25674\n",
      "5099\n",
      "8090\n",
      "2667\n",
      "7735\n",
      "10599\n",
      "4544\n",
      "9416\n",
      "7476\n",
      "10693\n",
      "9980\n",
      "7329\n",
      "5782\n",
      "6638\n",
      "3199\n",
      "3498\n",
      "2422\n",
      "4989\n",
      "5452\n",
      "5988\n",
      "18231\n",
      "7365\n",
      "5772\n",
      "2089\n",
      "5488\n",
      "10772\n",
      "3896\n",
      "3035\n",
      "11416\n",
      "6918\n",
      "1734\n",
      "2271\n",
      "2090\n",
      "6098\n",
      "6810\n",
      "6237\n",
      "7307\n",
      "3985\n",
      "2499\n",
      "8464\n",
      "6343\n",
      "8969\n",
      "3265\n",
      "3222\n",
      "2902\n",
      "5451\n",
      "2552\n",
      "150\n",
      "马上就好了！\n",
      "马上就好了！\n",
      "马上就好了！\n",
      "Done!\n"
     ]
    }
   ],
   "source": [
    "def position():\n",
    "    '''\n",
    "    这段代码只用运行一次就可以了, 给类别打标签, 返回同一类的id\n",
    "    paper_cluster_memberships.json 这个是ego-图割的代码跑出来的结果\n",
    "    '''\n",
    "    with open(\"paper_cluster_memberships.json\",'r', encoding='utf8') as f:\n",
    "        new_graph = json.load(f)\n",
    "\n",
    "    G = nx.Graph()\n",
    "    nodes = []\n",
    "    edge = []\n",
    "    num=0\n",
    "    for key,value in new_graph.items():\n",
    "        num+=1\n",
    "        nodes.append(eval(key))\n",
    "        for i in range(len(new_graph[key])):\n",
    "            edge.append((eval(key),new_graph[key][i]))\n",
    "\n",
    "        if num%50000 == 0:\n",
    "            # print(nodes,edge)\n",
    "            print(\"\\r[Done %d/%d]\"% (num, len(new_graph)))\n",
    "            # break\n",
    "\n",
    "\n",
    "    G.add_nodes_from(nodes)\n",
    "    G.add_edges_from(edge)\n",
    "\n",
    "    # compute the best partition\n",
    "    partition = community_louvain.best_partition(G)\n",
    "\n",
    "    results = list(partition.values())\n",
    "\n",
    "    labels = list(set(partition.values()))\n",
    "\n",
    "    print(\"共有{}类\".format(len(labels)))\n",
    "\n",
    "    # --------------------- 如果需要进行筛选 -----------------------\n",
    "    topic = []\n",
    "    for i in range(len(labels)):\n",
    "        label = labels[i]\n",
    "        num = results.count(label)\n",
    "        print(num)\n",
    "        \n",
    "        if num >= 1000:\n",
    "            topic.append(label)\n",
    "    # --------------------- 如果需要进行筛选 -----------------------\n",
    "    print(len(topic))\n",
    "    \n",
    "    position = {}\n",
    "\n",
    "    for i in range(len(topic)-1):\n",
    "        label = topic[i]\n",
    "        position_label = []\n",
    "        for j in range(len(results)):\n",
    "            if results[j] == label:\n",
    "                position_label.append(j)\n",
    "        position[str(label)] = position_label\n",
    "\n",
    "        if i%50 == 0:\n",
    "            print(\"马上就好了！\")\n",
    "    \n",
    "    print(\"Done!\")\n",
    "\n",
    "    with open(\"position.json\", \"w\", encoding='utf8') as f:\n",
    "        f.write(json.dumps(position, ensure_ascii=False, indent=3, separators=(',', ':')))\n",
    "\n",
    "# position()"
   ]
  },
  {
   "cell_type": "markdown",
   "metadata": {},
   "source": [
    "由于聚类结果太庞大了，这里仅展示原聚类结果千分之一的图，其中的粗黑点就是一个大的聚类簇。"
   ]
  },
  {
   "cell_type": "code",
   "execution_count": 18,
   "metadata": {},
   "outputs": [
    {
     "name": "stdout",
     "output_type": "stream",
     "text": [
      "[Done 50/791881]\n",
      "聚类簇示例如下：\n"
     ]
    },
    {
     "data": {
      "image/png": "[encoded data removed]",
      "text/plain": [
       "<Figure size 864x864 with 1 Axes>"
      ]
     },
     "metadata": {},
     "output_type": "display_data"
    }
   ],
   "source": [
    "with open(\"paper_cluster_memberships.json\",'r', encoding='utf8') as f:\n",
    "    new_graph = json.load(f)\n",
    "\n",
    "G = nx.Graph()\n",
    "nodes = []\n",
    "edge = []\n",
    "num=0\n",
    "for key,value in new_graph.items():\n",
    "    num+=1\n",
    "    nodes.append(key)\n",
    "    for i in range(len(new_graph[key])):\n",
    "        if key == str(new_graph[key][i]):\n",
    "            continue\n",
    "        edge.append((key,str(new_graph[key][i])))\n",
    "\n",
    "    if num%50 == 0:\n",
    "        # print(nodes,edge)\n",
    "        print(\"\\r[Done %d/%d]\"% (num, len(new_graph)))\n",
    "        break\n",
    "\n",
    "\n",
    "G.add_nodes_from(nodes)\n",
    "G.add_edges_from(edge)\n",
    "plt.figure(figsize=(12,12))\n",
    "\n",
    "\n",
    "pos = nx.spring_layout(G)\n",
    "nx.draw(G, with_labels=True, node_color='skyblue', edge_cmap=plt.cm.Blues, pos = pos)\n",
    "print(\"聚类簇示例如下：\")\n",
    "plt.show()\n"
   ]
  },
  {
   "cell_type": "markdown",
   "metadata": {},
   "source": [
    "#### 4. 提问并获取所有相关文章"
   ]
  },
  {
   "cell_type": "markdown",
   "metadata": {},
   "source": [
    "##### 4.1 获取查询语句"
   ]
  },
  {
   "cell_type": "code",
   "execution_count": 19,
   "metadata": {},
   "outputs": [],
   "source": [
    "# 查询语句\n",
    "Q = 'What do we know about risk factors?'"
   ]
  },
  {
   "cell_type": "markdown",
   "metadata": {},
   "source": [
    "##### 4.2 计算每个簇的平均相似度\n",
    "\n",
    "对于每个关键簇，随机采样簇中100篇文章，计算与问题的平均相似度，作为该簇与问句的相似性"
   ]
  },
  {
   "cell_type": "code",
   "execution_count": 26,
   "metadata": {},
   "outputs": [
    {
     "name": "stdout",
     "output_type": "stream",
     "text": [
      "1\n",
      "done[10|149]\n",
      "done[20|149]\n",
      "done[30|149]\n",
      "done[40|149]\n",
      "done[50|149]\n",
      "done[60|149]\n",
      "done[70|149]\n",
      "done[80|149]\n",
      "done[90|149]\n",
      "done[100|149]\n",
      "done[110|149]\n",
      "done[120|149]\n",
      "done[130|149]\n",
      "done[140|149]\n"
     ]
    },
    {
     "data": {
      "text/html": [
       "<div>\n",
       "<style scoped>\n",
       "    .dataframe tbody tr th:only-of-type {\n",
       "        vertical-align: middle;\n",
       "    }\n",
       "\n",
       "    .dataframe tbody tr th {\n",
       "        vertical-align: top;\n",
       "    }\n",
       "\n",
       "    .dataframe thead th {\n",
       "        text-align: right;\n",
       "    }\n",
       "</style>\n",
       "<table border=\"1\" class=\"dataframe\">\n",
       "  <thead>\n",
       "    <tr style=\"text-align: right;\">\n",
       "      <th></th>\n",
       "      <th>0</th>\n",
       "      <th>1</th>\n",
       "    </tr>\n",
       "  </thead>\n",
       "  <tbody>\n",
       "    <tr>\n",
       "      <th>100</th>\n",
       "      <td>100</td>\n",
       "      <td>0.810729</td>\n",
       "    </tr>\n",
       "    <tr>\n",
       "      <th>0</th>\n",
       "      <td>0</td>\n",
       "      <td>0.807852</td>\n",
       "    </tr>\n",
       "    <tr>\n",
       "      <th>108</th>\n",
       "      <td>108</td>\n",
       "      <td>0.807573</td>\n",
       "    </tr>\n",
       "    <tr>\n",
       "      <th>83</th>\n",
       "      <td>83</td>\n",
       "      <td>0.806804</td>\n",
       "    </tr>\n",
       "    <tr>\n",
       "      <th>43</th>\n",
       "      <td>43</td>\n",
       "      <td>0.806171</td>\n",
       "    </tr>\n",
       "  </tbody>\n",
       "</table>\n",
       "</div>"
      ],
      "text/plain": [
       "       0         1\n",
       "100  100  0.810729\n",
       "0      0  0.807852\n",
       "108  108  0.807573\n",
       "83    83  0.806804\n",
       "43    43  0.806171"
      ]
     },
     "execution_count": 26,
     "metadata": {},
     "output_type": "execute_result"
    }
   ],
   "source": [
    "from biobert_embedding.embedding import BiobertEmbedding\n",
    "import random\n",
    "import torch\n",
    "\n",
    "biobert = BiobertEmbedding()\n",
    "\n",
    "with open(\"id2paper.json\",'r', encoding='utf8') as f:\n",
    "    id_to_paper = json.load(f)\n",
    "\n",
    "with open(\"position.json\",'r', encoding='utf8') as f:\n",
    "    position = json.load(f)\n",
    "\n",
    "query_vector = biobert.sentence_vector(Q)\n",
    "label_score = {}\n",
    "\n",
    "num=0\n",
    "for key, value in position.items():\n",
    "    num+=1\n",
    "    all = 0\n",
    "    current_papers = position[key]\n",
    "    # try:\n",
    "    choice_papers = random.sample(current_papers, 10)\n",
    "    for paper in choice_papers:\n",
    "        title = id_to_paper[str(paper)]\n",
    "        result = biobert.sentence_vector(title)\n",
    "        similarity = torch.cosine_similarity(query_vector, result, dim=0)\n",
    "        all += similarity\n",
    "    average_socre = all/len(choice_papers)\n",
    "    label_score[key]=average_socre.item()\n",
    "    # except:\n",
    "    #     pass\n",
    "\n",
    "    if num%10==0:\n",
    "        print(\"done[{}|{}]\".format(num,len(position)))\n",
    "\n",
    "label_score = pd.DataFrame(list(label_score.items()))\n",
    "label_score.sort_values(by=1 , inplace=True, ascending=False)\n",
    "label_score.head(5)\n",
    "\n",
    "# '''\n",
    "# 输出长这样:\n",
    "\n",
    "#      0         1\n",
    "# 77  79  0.831887\n",
    "# 28  28  0.831751\n",
    "# 54  55  0.831047\n",
    "# 80  82  0.827677\n",
    "# 34  34  0.827628\n",
    "# ..  ..       ...\n",
    "# 21  21  0.802501\n",
    "# 68  70  0.801273\n",
    "# 2    2  0.799454\n",
    "# 71  73  0.796601\n",
    "# 24  24  0.779584\n",
    "#     |-> 这个 | 列是聚类的id\n",
    "#              |-> 这个列表示文献和问句间的相似性，越高越好\n",
    "# '''\n"
   ]
  },
  {
   "cell_type": "markdown",
   "metadata": {},
   "source": [
    "选取其中相似性最大的30个簇，对这些簇中再采样100篇，即总共3000篇为与问题相关候选文献。"
   ]
  },
  {
   "cell_type": "code",
   "execution_count": 53,
   "metadata": {},
   "outputs": [
    {
     "name": "stdout",
     "output_type": "stream",
     "text": [
      "['a rapid mobilization of \"virtual\" primary care services in response to covid-19 at veterans health administration', 'novel coronavirus and hospital infection prevention: preparing for the impromptu speech', 'a systematic narrative review of comprehensive preparedness strategies of healthcare resources for a large resurgence of covid-19 nationally, with local or regional epidemics: present era and beyond', 'iron oxide nanoparticle core-shell magnetic microspheres: applications toward targeted drug delivery', 'kordzadeh-kermani e, khalili h, karimzadeh i. pathogenesis, clinical manifestations and 387 complications of coronavirus disease 2019 (covid-19)', 'grand challenges in pharmaceutical research series: ridding the cold chain for biologics', 'can carbon quantum dots (cqds) or boron compounds be an ultimate solution for covid-19 therapy? iran', 'fetal diagnosis and therapy during the covid-19 pandemic: guidance on behalf of the international fetal medicine and surgery society', 'comparison of the oxygenation factor and the oxygenation ratio in subjects with ards', 'neutrophil extracellular traps activate il-8 and il-1 expression in human bronchial epithelia']\n",
      "3000\n"
     ]
    }
   ],
   "source": [
    "num = 0\n",
    "# 将id转换为文章title\n",
    "related_papers = []\n",
    "for key, value in position.items():\n",
    "    if num==30:\n",
    "        break\n",
    "    num+=1\n",
    "    all = 0\n",
    "    current_papers = position[key]\n",
    "    try:\n",
    "        choice_papers = random.sample(current_papers, 100)\n",
    "        for paper in choice_papers:\n",
    "            title = id_to_paper[str(paper)]\n",
    "            related_papers.append(title.lower())\n",
    "    except:\n",
    "        pass\n",
    "\n",
    "print(related_papers[:10])\n",
    "print(len(related_papers))"
   ]
  },
  {
   "cell_type": "markdown",
   "metadata": {},
   "source": [
    "以下和实验一的设置完全相同，故不再进行赘述"
   ]
  },
  {
   "cell_type": "code",
   "execution_count": 54,
   "metadata": {},
   "outputs": [
    {
     "name": "stdout",
     "output_type": "stream",
     "text": [
      "全文预处理完毕\n"
     ]
    },
    {
     "data": {
      "text/html": [
       "<div>\n",
       "<style scoped>\n",
       "    .dataframe tbody tr th:only-of-type {\n",
       "        vertical-align: middle;\n",
       "    }\n",
       "\n",
       "    .dataframe tbody tr th {\n",
       "        vertical-align: top;\n",
       "    }\n",
       "\n",
       "    .dataframe thead th {\n",
       "        text-align: right;\n",
       "    }\n",
       "</style>\n",
       "<table border=\"1\" class=\"dataframe\">\n",
       "  <thead>\n",
       "    <tr style=\"text-align: right;\">\n",
       "      <th></th>\n",
       "      <th>sha</th>\n",
       "      <th>abstract</th>\n",
       "      <th>text</th>\n",
       "    </tr>\n",
       "  </thead>\n",
       "  <tbody>\n",
       "    <tr>\n",
       "      <th>0</th>\n",
       "      <td>f786bcbbd454d1e47d5ad51e08ed95a5b87ad01c</td>\n",
       "      <td>in this study, we review the initial impacts o...</td>\n",
       "      <td>Results The simplest way to summarize the over...</td>\n",
       "    </tr>\n",
       "    <tr>\n",
       "      <th>1</th>\n",
       "      <td>N/A</td>\n",
       "      <td>twitter has considerable capacity for health e...</td>\n",
       "      <td>twitter has considerable capacity for health e...</td>\n",
       "    </tr>\n",
       "    <tr>\n",
       "      <th>2</th>\n",
       "      <td>N/A</td>\n",
       "      <td>background: the covid-19 pandemic has certainl...</td>\n",
       "      <td>background: the covid-19 pandemic has certainl...</td>\n",
       "    </tr>\n",
       "    <tr>\n",
       "      <th>3</th>\n",
       "      <td>N/A</td>\n",
       "      <td>convalescent blood product therapy has been in...</td>\n",
       "      <td>convalescent blood product therapy has been in...</td>\n",
       "    </tr>\n",
       "    <tr>\n",
       "      <th>4</th>\n",
       "      <td>N/A</td>\n",
       "      <td>background: during the covid-19 pandemic, sout...</td>\n",
       "      <td>background: during the covid-19 pandemic, sout...</td>\n",
       "    </tr>\n",
       "  </tbody>\n",
       "</table>\n",
       "</div>"
      ],
      "text/plain": [
       "                                        sha  \\\n",
       "0  f786bcbbd454d1e47d5ad51e08ed95a5b87ad01c   \n",
       "1                                       N/A   \n",
       "2                                       N/A   \n",
       "3                                       N/A   \n",
       "4                                       N/A   \n",
       "\n",
       "                                            abstract  \\\n",
       "0  in this study, we review the initial impacts o...   \n",
       "1  twitter has considerable capacity for health e...   \n",
       "2  background: the covid-19 pandemic has certainl...   \n",
       "3  convalescent blood product therapy has been in...   \n",
       "4  background: during the covid-19 pandemic, sout...   \n",
       "\n",
       "                                                text  \n",
       "0  Results The simplest way to summarize the over...  \n",
       "1  twitter has considerable capacity for health e...  \n",
       "2  background: the covid-19 pandemic has certainl...  \n",
       "3  convalescent blood product therapy has been in...  \n",
       "4  background: during the covid-19 pandemic, sout...  "
      ]
     },
     "execution_count": 54,
     "metadata": {},
     "output_type": "execute_result"
    }
   ],
   "source": [
    "def format_body(body_text):\n",
    "    '''获得文章的全部文本'''\n",
    "    texts = [(di['section'], di['text']) for di in body_text]\n",
    "    texts_di = {di['section']: \"\" for di in body_text}\n",
    "    \n",
    "    for section, text in texts:\n",
    "        texts_di[section] += text\n",
    "\n",
    "    body = \"\"\n",
    "\n",
    "    # 需要的段落\n",
    "    need = [\"ABSTRACT\",\"CONCLUSION\",\"METHOD\",\"INFECT\",\"EFFECT\",\"FACTOR\",\"ANALY\",\"DIFFER\",\"RESULT\"]\n",
    "\n",
    "    for section, text in texts_di.items():\n",
    "        \n",
    "        flag = 0\n",
    "        for ne in need:\n",
    "            if section.upper().find(ne)!=-1: # 将文献小节题目大写\n",
    "                flag = 1\n",
    "                break\n",
    "        if flag:\n",
    "            body += section # ABSTRACT,BACKGROUND,CASE,CONCLUSION,DISSCUSION, etc.\n",
    "            body += \" \"\n",
    "            body += text\n",
    "            body += \"\\n\\n\"\n",
    "        \n",
    "    \n",
    "    return body\n",
    "\n",
    "Candidate_articles = []\n",
    "\n",
    "\n",
    "for index, row in df.iterrows():\n",
    "    if row['title'] in related_papers: \n",
    "        if 'N/A' not in row['sha'] and os.path.exists('pdf_json/'+row['sha']+'.json')==True:\n",
    "            with open('pdf_json/'+row['sha']+'.json') as json_file:\n",
    "                data = json.load(json_file)\n",
    "                body=format_body(data['body_text'])\n",
    "                try:\n",
    "                    if detect(body) != 'en': # 只保留英文文本\n",
    "                        continue\n",
    "                    # print(body)\n",
    "                    Candidate_articles.append([row['sha'],row['abstract'],body])\n",
    "                except:\n",
    "                    pass\n",
    "        # 否则将text赋值为abstract\n",
    "        else:\n",
    "            try:\n",
    "                if detect(body) != 'en': # 只保留英文文本\n",
    "                    continue\n",
    "                # print(body)\n",
    "                Candidate_articles.append([row['sha'],row['abstract'],row['abstract']])\n",
    "            except:\n",
    "                pass \n",
    "\n",
    "Candidate_articles = pd.DataFrame(Candidate_articles,columns = ['sha','abstract','text'])\n",
    "print(\"全文预处理完毕\")\n",
    "Candidate_articles.head(5)"
   ]
  },
  {
   "cell_type": "code",
   "execution_count": 56,
   "metadata": {},
   "outputs": [
    {
     "data": {
      "text/plain": [
       "'Results The simplest way to summarize the overall impact of COVID-19 on the labour market is to examine the impact on aggregate weekly hours. In Figure 1 , we present aggregate weekly hours of individuals aged 20-64 years for each month since January 1976. 3 We can see large reductions in weekly hours in previous recessions (1981-1982, 1990-1992, and 2008-2009 ). However, the magnitude of losses in previous recessions is dwarfed by the losses in 2020. Comparing February and April 2020 directly (see Table 1 ), aggregate hours dropped 29 percent between February and April 2020. In Table 1 , we also provide estimates that adjust this loss in hours for normal February-April changes based on 2018 aggregate hours. Once adjusted, we fi nd the overall COVID-19 impact was a 32 percent decline in aggregate hours.The loss in work hours is made up of two components: signifi cant losses of jobs on the extensive margin and reductions in hours worked on the intensive margin. (In Table 2 , we present the overall loss in employment To be unemployed in the LFS, a person needs to report having been temporarily laid off, having a job to start in the future, or having searched for work in recent weeks. In the context of this pandemic, it is not obvious how people would describe their COVID-related reasons for not searching or how their reason would be captured in the LFS questionnaire. With COVID-19 closures, many of the individuals who are laid off would be unable to search for work because their entire profession or industry was shut down. For those reporting temporary layoffs, it is not clear whether respondents\\' views of \"temporary\" match with their employers\\' because the future path of the pandemic was very much in doubt at the time of job separations. These considerations affect not only the standard defi nition of unemployment but also broader measures that include people not currently searching. As such, comparing measures of unemployment across months before and after the onset of COVID-19 will not offer a clearly interpretable result.Many who lose work will fi nd themselves in the residual category of non-participation. As Jones and Riddell (2019 , 2006 , 1999 have demonstrated, the distinction between unemployed persons and non-participants is generally quite blurred. Many non-participants are marginally attached to the labour force, and their behaviour (in terms of transitions into employment) appears to mimic more closely that of unemployed persons than that of many other non-participants who lack attachment to the labour force. When investigating the impacts of COVID-19, we expect this distinction between the unemployed and nonparticipants to be even more blurred.In focusing attention on labour market impacts, we think it is particularly important to characterize the total amount of work done by participants, which is captured best in measures of aggregate weekly work hours. Worksharing, furloughs, or reduced hours as a result of child care responsibilities and other issues associated with work-from-home arrangements will be picked up by hours measures but missed by head counts of employment or unemployment. Moreover, aggregate hours is a more useful macroeconomic measure as an input to aggregate production functions.In our February-April comparisons, we account for differences between the months that would not be COVID-19 related. Several issues for these adjustments arise. First, when examining employment levels, typical monthly increases partly refl ect a general increase in population over time. If we do not account for the population increase, we risk understating the loss in employment due to COVID-19. Second, the precise timing of holidays matters. The April LFS reference week in 2020 includes Easter Monday but not Good Friday. Looking through recent years as candidates for a benchmark February-April difference in aggregate hours, the placement of Good Friday was clearly important for reported differences between In Figure 2 , we present how the employment and hours losses were distributed across the weekly earnings quartile. Here we see that nearly half of job losses were attributed to workers with earnings in the bottom quartile. Those with earnings in the bottom half of the weekly earnings distribution (in the bottom or second quartile) account for almost 80 percent of job losses. Employment losses in the top quartile of weekly earnings represent only 4 percent of all losses. In Figure 2 we also present results for workers who moved from being employed and at work to being employed but absent with a substantial reduction in hours. Similar to employment losses, nearly half (47 percent) of those affected by the loss of work were in the bottom quartile of weekly earnings.We also summarize the overall impact of COVID-19 by showing the decline in hours worked by quartile (last set of bars in Figure 2 ). Hours losses are not as concentrated in the bottom quartile because top quartile workers had their hours substantially reduced even when they kept their jobs. Workers in the bottom two quartiles were, nonetheless, most adversely affected. They account for 37 and 34 percent, respectively, of hours losses, compared with 10 percent for workers in the top quartile.The employment losses in the lowest quartiles, illustrated in Figure 2 , refl ect heavy closures within some industries. We break down the losses for the bottom two earnings quartiles by industry in Table 3 . For those in the lowest earnings quartiles, job losses in retail trade and accommodation and food services account for nearly half the job losses (presented in the top panel of Table 3 ). The large loss of jobs in health care and social assistance, as well as in education, largely refl ects home care providers and education support. These fi ve industries combined represent nearly three-quarters of the losses for workers in the lowest quartile.When we look at job losses in the second quartile (in the second panel of Table 3 ), we see a substantial but smaller proportion of job losses attributed to some of the same industries. However, workers in this part of the earnings distribution were also affected by losses in construction and durable goods manufacturing, together accounting for 20 percent of job losses in this quartile.A more comprehensive representation of the types of work lost as a result of COVID-19 is provided in Tables 4 and 5 , where we present the loss in aggregate weekly hours and employment (respectively) by job characteristics. Given the industries facing large job losses (presented in Table 3 ), it is not surprising to see large declines in employment and hours in the most public-facing occupations. For example, sales and services occupations experienced a 45 percent decline in hours and a 27 percent decline in employment (representing the largest loss in employment among occupation categories).In Tables 4 and 5 , we see a smaller but substantial reduction in aggregate hours lost in management representing those at work or absent.) Between February and April 2020, nearly 2.5 million individuals aged between 20 and 64 years lost their jobs, representing a 14 percent decline in employment. However, recognizing that population growth and seasonality will generally drive some part of the month-to-month change in employment, we also provide adjusted estimates based on 2018 changes. With this adjustment, we see that the COVID-19 impact represents a 15 percent decline in employment.In Tables 1 and 2 , we further characterize the distribution of lost work by considering the loss of hours and employment within demographic groups. First, we see that men and women experienced similar job losses between February and April. Overall, aggregate hours fell by 34 percent for women and 31 percent for men. This contrasts with the initial impact of COVID-19 on jobs in March 2020, whereby women were clearly facing larger losses than men (see Milligan, Schirle, and Skuterud 2020 ) . In later sections of this article, we return to the gendered nature of jobs affected when considering the longer-run impacts of the COVID-19 shutdowns and the occupations most affected. Second, we see that the largest impact is on younger workers, aged 20-29 years, whose aggregate hours fell 40 percent and whose employment fell 25 percent as a result of the shutdowns. Hours and employment losses were smallest among those aged 40-49 years, who experienced a 12 percent drop in employment as a result of COVID-19.With respect to other characteristics in Tables 1 and 2 , the patterns are similar. For women with children, the loss in aggregate weekly hours and employment is larger for those with children aged younger than 12 years than for those with kids aged 13-17 years, potentially signalling the importance of caregiving responsibilities among mothers with younger children. The impact of COVID-19 on women without children appears larger, consistent with women without children at home being concentrated in relatively low-wage jobs, which were most affected by shutdowns. 4 With respect to regional differences, we see that Quebec\\'s loss of hours (37 percent) and employment (18 percent) exceeded that of other provinces. Manitoba\\'s losses were the smallest, with a 23 percent reduction in hours and 13 percent loss in employment. However, there are no obvious patterns across regions.The job losses we highlight in Table 2 , however, are distributed unequally across the wage distribution. To examine impacts across wage groups, we fi rst divide workers observed in February 2020 into four equal-sized groups, ranked on the basis of weekly earnings. To gauge the magnitudes, the bottom quartile threshold is $646 per week. This bottom quartile includes individuals who work full time for minimum wage. 5 The February 2020 thresholds are used when measuring employment in April, and February 2018 thresholds are used for 2018. 25 percent reduction in employment. Salaried women\\'s hours, however, dropped only 14 percent, and employment fell by only 5 percent. Whether individuals are unionized also appears to be associated with whether hours losses are also job losses. Although the aggregate hours lost by union and non-union employees are similar in magnitude (26 and 29 percent, respectively), their employment losses are not-non-union workers experience a 20 percent decline in employment, whereas unionized workers experience only a 12 percent decline. The experience of non-union workers is worsened when combined with other characteristics. For example, we found that women who were non-union and paid hourly experienced a 44 percent reduction in work hours and a 32 percent reduction in employment.We expect that differences across occupations and industries explain a substantial part of the differentials in COVID-19 impacts across various job characteristics, refl ecting the shutdown of many non-essential activities. To examine this further, we estimate industry and occupation shares in the employed population in February 2020 and the COVID-19 effects within each industry-occupation category and use this information to construct counterfactual losses that illustrate how much of the differential across quartiles refl ects COVID-19 effects across industryoccupation groups and how much is within industry and occupation. 6 The results are presented in Table 6 . We fi nd that 60 percent of the relative decline in employment occupations (of 19 percent) that is not matched by a loss in employment (at only 2 percent). We believe this is related to the signifi cantly different experience of those who are paid hourly and those who are salaried (also presented in Tables 4 and 5 ). Among women paid hourly, there was a 39 percent reduction in hours due to COVID-19 and a recovery. To organize our thoughts, we separate our discussion into supply and demand considerations.On the supply side of the labour market, three important factors arise. First, and most obvious, is the health implications of the pandemic. Concern for one\\'s own health or for those living with heightened risk factors (e.g., age or immune defi ciencies) will change the labour market decisions of some. Our results show that the labour market impact of the COVID-19 pandemic has been harsher on those workers who hold the least bargaining power-non-union, low wage, paid hourly. The policy implication is that these affected workers rely most heavily on government regulation to keep their workplaces safe, so provincial and federal labour market regulations about safe work will become paramount to ensure workers are safe and feel safe when providing labour.Second, our results indicate that the hours worked and employment of mothers with pre-school and younger school-aged kids dropped substantially. As the economy moves to recovery, the lack of regular child care and schooling will make it much harder for families to supply labour, and this is most likely to hit mothers with young kids much harder. As fi rms partially reopen, it is particularly important to consider which of their employees are for the bottom quartile (compared with the top quartile) is accounted for by COVID-19 effects at the industryoccupation level (so that 40 percent of the difference between quartiles refl ects within-industry-occupation employment losses). Similarly, 58 percent of the relative decline in hours for the bottom quartile is accounted for by COVID-19 effects at the industry-occupation level.Finally, looking at classes of workers, Tables 4 and 5 show similar interesting differences. Those working in the public sector saw the smallest decline in hours worked (at 16 percent) and employment (5 percent). We see a 32 percent loss in hours and a 21 percent loss in employment for those in the private sector. Aggregate hours lost were greatest among the self-employed (at 51 percent), but this results in a loss of only 3 percent of employment. Examining the self-employed reinforces our view that it is important to examine the losses in both aggregate weekly hours worked and employment.\\n\\nConclusions and Future Research This article has documented the initial impacts of the COVID-19 pandemic on the Canadian labour market, using data available through April 2020. We fi nd that COVID-19 drove a 32 percent reduction in aggregate weekly hours worked between February and April 2020, along with a 15 percent reduction in employment. More than one-half of job losses are attributed to workers in the bottom quartile of weekly earnings, and these losses largely represent public-facing jobs in industries hardest hit by \\n\\n'"
      ]
     },
     "execution_count": 56,
     "metadata": {},
     "output_type": "execute_result"
    }
   ],
   "source": [
    "# 使用文献全部内容\n",
    "recommendations = []\n",
    "for index, row in Candidate_articles.iterrows():\n",
    "        recommendations.append(row['text'])\n",
    "\n",
    "recommendations[0]"
   ]
  },
  {
   "cell_type": "code",
   "execution_count": 57,
   "metadata": {},
   "outputs": [
    {
     "data": {
      "text/plain": [
       "433"
      ]
     },
     "execution_count": 57,
     "metadata": {},
     "output_type": "execute_result"
    }
   ],
   "source": [
    "len(recommendations)"
   ]
  },
  {
   "cell_type": "markdown",
   "metadata": {},
   "source": [
    "#### 5. 问答\n",
    "\n",
    "网址：https://huggingface.co/ktrapeznikov/biobert_v1.1_pubmed_squad_v2\n",
    "\n",
    "以下和第一个实验的问答的代码相同，即使用Bio-BERT完成问答"
   ]
  },
  {
   "cell_type": "code",
   "execution_count": 58,
   "metadata": {},
   "outputs": [],
   "source": [
    "tokenizer = AutoTokenizer.from_pretrained(\"ktrapeznikov/biobert_v1.1_pubmed_squad_v2\")\n",
    "\n",
    "model = AutoModelForQuestionAnswering.from_pretrained(\"ktrapeznikov/biobert_v1.1_pubmed_squad_v2\")"
   ]
  },
  {
   "cell_type": "code",
   "execution_count": 59,
   "metadata": {},
   "outputs": [],
   "source": [
    "def getanswers(question):\n",
    "    '''\n",
    "    获得答案和相关度\n",
    "    '''\n",
    "    questions= []\n",
    "    contexts= []\n",
    "    for bigcontext in recommendations:\n",
    "        bigcontext = bigcontext.split(\" \")\n",
    "        for i in range(int(len(bigcontext)/60)):\n",
    "          contexts.append(\" \".join(bigcontext[i*60:60*(i+1)]))\n",
    "          questions.append(question) # 这里问题不需要做去停词、标点等处理比较好\n",
    "    # num=0\n",
    "    answers = []\n",
    "    for question, context in zip(questions,contexts):\n",
    "      result = ask(question,context)\n",
    "      if len(result[0].split(\" \")) < 10 or '[SEP]' in result[0].split(\" \"): # 回答短于10个词的不要,有本身问句在回答中的不要\n",
    "        continue\n",
    "      # num+=1\n",
    "      answers.append([result[0],result[-2].item()])\n",
    "      # if num==10:\n",
    "      #   break\n",
    "\n",
    "    return answers"
   ]
  },
  {
   "cell_type": "code",
   "execution_count": 60,
   "metadata": {},
   "outputs": [],
   "source": [
    "def ask(question,context):\n",
    "    input_ids = tokenizer.encode(question, context)\n",
    "    sep_index = input_ids.index(tokenizer.sep_token_id)\n",
    "\n",
    "    num_seg_a = sep_index + 1\n",
    "\n",
    "    num_seg_b = len(input_ids) - num_seg_a\n",
    "    # 其中0代表问题，1代表文本\n",
    "    segment_ids = [0]*num_seg_a + [1]*num_seg_b\n",
    "    assert len(segment_ids) == len(input_ids)\n",
    "    tokens = tokenizer.convert_ids_to_tokens(input_ids)\n",
    "    # tokens, for example: ['[CLS]', 'old', 'person', 'risk', '[SEP]', 'age','[SEP]']\n",
    "\n",
    "    outputs = model(input_ids= torch.tensor([input_ids]),token_type_ids=torch.tensor([segment_ids]))\n",
    "\n",
    "    answer_end = 0\n",
    "    answer_start = torch.argmax(outputs.start_logits)\n",
    "    answer_ends = torch.argsort(outputs.end_logits).numpy()[::-1]\n",
    "    for i in answer_ends[0]:\n",
    "        if answer_start<= i:\n",
    "            answer_end= i\n",
    "\n",
    "    answer = ' '.join(tokens[answer_start:answer_end+1])\n",
    "        \n",
    "    answer = answer.replace(\" ##\",\"\").replace(\"[CLS] \",\"\")\n",
    "\n",
    "    pack = [answer,answer_start,answer_end,torch.max(outputs.start_logits),outputs.end_logits[0][answer_end],(torch.max(outputs.start_logits)+outputs.end_logits[0][answer_end]),context]\n",
    "    return pack"
   ]
  },
  {
   "cell_type": "code",
   "execution_count": 61,
   "metadata": {},
   "outputs": [
    {
     "name": "stdout",
     "output_type": "stream",
     "text": [
      "Wall time: 6min 19s\n"
     ]
    }
   ],
   "source": [
    "%%time\n",
    "answers = getanswers(Q)"
   ]
  },
  {
   "cell_type": "markdown",
   "metadata": {},
   "source": [
    "根据回答置信度进行排序"
   ]
  },
  {
   "cell_type": "code",
   "execution_count": 62,
   "metadata": {},
   "outputs": [
    {
     "data": {
      "text/html": [
       "<div>\n",
       "<style scoped>\n",
       "    .dataframe tbody tr th:only-of-type {\n",
       "        vertical-align: middle;\n",
       "    }\n",
       "\n",
       "    .dataframe tbody tr th {\n",
       "        vertical-align: top;\n",
       "    }\n",
       "\n",
       "    .dataframe thead th {\n",
       "        text-align: right;\n",
       "    }\n",
       "</style>\n",
       "<table border=\"1\" class=\"dataframe\">\n",
       "  <thead>\n",
       "    <tr style=\"text-align: right;\">\n",
       "      <th></th>\n",
       "      <th>回答</th>\n",
       "      <th>置信度</th>\n",
       "    </tr>\n",
       "  </thead>\n",
       "  <tbody>\n",
       "    <tr>\n",
       "      <th>23</th>\n",
       "      <td>our understanding of the association of corona...</td>\n",
       "      <td>8.675137</td>\n",
       "    </tr>\n",
       "    <tr>\n",
       "      <th>12</th>\n",
       "      <td>sex , onset month , age group , city of residence</td>\n",
       "      <td>8.020144</td>\n",
       "    </tr>\n",
       "    <tr>\n",
       "      <th>32</th>\n",
       "      <td>there has not been evidence suggesting the lin...</td>\n",
       "      <td>7.398934</td>\n",
       "    </tr>\n",
       "    <tr>\n",
       "      <th>20</th>\n",
       "      <td>D - dimer , interleukin ( IL ) - 6 and cardiac...</td>\n",
       "      <td>7.045435</td>\n",
       "    </tr>\n",
       "    <tr>\n",
       "      <th>27</th>\n",
       "      <td>other groups at increased risk because of unde...</td>\n",
       "      <td>7.043673</td>\n",
       "    </tr>\n",
       "  </tbody>\n",
       "</table>\n",
       "</div>"
      ],
      "text/plain": [
       "                                                   回答       置信度\n",
       "23  our understanding of the association of corona...  8.675137\n",
       "12  sex , onset month , age group , city of residence  8.020144\n",
       "32  there has not been evidence suggesting the lin...  7.398934\n",
       "20  D - dimer , interleukin ( IL ) - 6 and cardiac...  7.045435\n",
       "27  other groups at increased risk because of unde...  7.043673"
      ]
     },
     "execution_count": 62,
     "metadata": {},
     "output_type": "execute_result"
    }
   ],
   "source": [
    "answers = pd.DataFrame(answers,columns = ['回答','置信度'])\n",
    "answers.sort_values(by=\"置信度\" , inplace=True, ascending=False)\n",
    "answers.head(5)"
   ]
  },
  {
   "cell_type": "code",
   "execution_count": 63,
   "metadata": {},
   "outputs": [
    {
     "name": "stdout",
     "output_type": "stream",
     "text": [
      "问题为： What do we know about risk factors?\n",
      "第1条回答为：our understanding of the association of coronavirus disease 19 ( covid - 19 ) and preterm or early term birth among racially and ethnically diverse populations and those with chronic medical conditions is limited\n",
      "第2条回答为：sex , onset month , age group , city of residence\n",
      "第3条回答为：there has not been evidence suggesting the link between covid - 19 and asthma exacerbation\n",
      "第4条回答为：D - dimer , interleukin ( IL ) - 6 and cardiac troponin I ( cTnI ) were excluded from the analysis because they were not routinely tested in the cohorts\n",
      "第5条回答为：other groups at increased risk because of underlying medical conditions or morbid obesity\n",
      "第6条回答为：to the best of our knowledge , the association between severe covid - 19 and dermatologic comorbidities has not been reported\n",
      "第7条回答为：when some patients ignore their mild symptoms at the beginning or a potential carrier cannot get tested immediately\n",
      "第8条回答为：population growth and seasonality will generally drive some part of the month - to - month change in employment\n",
      "第9条回答为：assessed the risk factors associated with critical illness and poor prognosis\n",
      "第10条回答为：prothrombin time , d - dimer , and fibrin degradation\n",
      "第11条回答为：correlated to factors co - occurring in a cancer patient\n",
      "第12条回答为：normal or average levels of test anxiety with low self - esteem and fear of a family member contracting the virus\n",
      "第13条回答为：no consistent relationship between nursing home compare five - star ratings or past infection control deficiency citations and probability or severity of outbreak\n",
      "第14条回答为：it is uncertain whether chest compressions or defibrillation cause aerosol generation or transmission of covid - 19 to rescuers\n",
      "第15条回答为：sex ( biological attributes ) and gender ( socially constructed roles , behaviours , expressions , identities ) factors\n",
      "第16条回答为：heightened risk factors ( e . g . , age or immune defi ciencies\n",
      "第17条回答为：results indicate that it alters physical activity and eating behaviours in a health compromising direction\n",
      "第18条回答为：death was associated with increased neutrophil to lymphocyte ratio ( & # 8805 ; 9 · 13 ; odds ratio [ or ] 5 · 39 [ 95 % ci 1 · 70 - 17 · 13 ] , p = 0 · 0042 ) , thrombocytopenia\n",
      "第19条回答为：Association of participant and school characteristics with SARS - CoV - 2 infection In Fig . 2 , we investigated whether participant and school characteristics were associated with the odds of being tested positive for RT - qPCR - detected SARS - CoV - 2 infection\n",
      "第20条回答为：being outdoors ( vs . indoors ) , the experience of loneliness , and screen - time\n"
     ]
    }
   ],
   "source": [
    "print(\"问题为：\",Q)\n",
    "num = 0 \n",
    "for index, row in answers.iterrows():\n",
    "    num+=1\n",
    "    print(\"第{}条回答为：{}\".format(num,row['回答']))\n",
    "    \n",
    "    if num==20:\n",
    "        break"
   ]
  },
  {
   "cell_type": "code",
   "execution_count": 64,
   "metadata": {},
   "outputs": [
    {
     "name": "stdout",
     "output_type": "stream",
     "text": [
      "回答已保存至anwser_clustering.txt文件。\n"
     ]
    }
   ],
   "source": [
    "num = 0 \n",
    "with open(\"anwser_clustering.txt\",\"a\") as f:\n",
    "    for index, row in answers.iterrows():\n",
    "        f.write(row['回答']+\"\\n\")\n",
    "        num+=1\n",
    "        if num==10:\n",
    "            break\n",
    "print(\"回答已保存至anwser_clustering.txt文件。\")"
   ]
  },
  {
   "cell_type": "markdown",
   "metadata": {},
   "source": [
    "#### 6.总结\n",
    "\n",
    "在本文中，我使用了聚类的方法完成文献的问答模型。具体的，我复现了\"Information Retrieval and Extraction on COVID-19 Clinical Articles Using Graph Community Detection and Bio-BERT Embeddings\"，其中聚类方式为ego-splitting."
   ]
  }
 ],
 "metadata": {
  "interpreter": {
   "hash": "250c120306f9651a88110a3d3550f9272d96cd0492fa1a558faef151b6432bed"
  },
  "kernelspec": {
   "display_name": "Python 3.7.13 ('biobert')",
   "language": "python",
   "name": "python3"
  },
  "language_info": {
   "codemirror_mode": {
    "name": "ipython",
    "version": 3
   },
   "file_extension": ".py",
   "mimetype": "text/x-python",
   "name": "python",
   "nbconvert_exporter": "python",
   "pygments_lexer": "ipython3",
   "version": "3.7.13"
  },
  "orig_nbformat": 4
 },
 "nbformat": 4,
 "nbformat_minor": 2
}
