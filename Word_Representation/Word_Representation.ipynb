{
 "cells": [
  {
   "cell_type": "markdown",
   "metadata": {},
   "source": [
    "## Text Mining by Word Representation\n",
    "\n",
    "### 任务描述\n",
    "\n",
    "本次实验需要针对一百万篇疫情相关论文进行文本挖掘。具体的，根据用户提供的问句进行内容检索，并以适当形式展示。\n",
    "\n",
    "在进行相关调研之后，我把该任务定义为“机器阅读理解之多答案抽取任务”。\n"
   ]
  },
  {
   "cell_type": "markdown",
   "metadata": {},
   "source": [
    "### 实验流程\n",
    "\n",
    "<div align=center>\n",
    "<img src=\"pic\\图片1.png\" style=\"zoom:20%\" />\n",
    "</div>\n",
    "\n",
    "上图展示了本次实验的实验流程。具体的，本次实验分为**离线特征构建**和**在线问答**两个部分，对于前者主要针对原始数据进行分析、清洗以及特征预处理，运行一次后变无需再次运行。对于后者完成文献的检索和问答工作，其中检索分为**粗筛**和**精筛**。粗筛使用**哈希局部敏感算法**返回500篇文章，再将问题和文章进行**向量化**表示，计算余弦相似度排序，返回前100篇文章。最终，对这100篇文章（包含题目、摘要和全文）进行问答。其中，向量化表示和问答均使用**bio-bert模型**。"
   ]
  },
  {
   "cell_type": "markdown",
   "metadata": {},
   "source": [
    "### 实验过程"
   ]
  },
  {
   "cell_type": "markdown",
   "metadata": {},
   "source": [
    "#### 1. 导入第三方库"
   ]
  },
  {
   "cell_type": "code",
   "execution_count": 1,
   "metadata": {},
   "outputs": [
    {
     "name": "stderr",
     "output_type": "stream",
     "text": [
      "e:\\anaconda\\envs\\biobert\\lib\\site-packages\\tqdm\\auto.py:22: TqdmWarning: IProgress not found. Please update jupyter and ipywidgets. See https://ipywidgets.readthedocs.io/en/stable/user_install.html\n",
      "  from .autonotebook import tqdm as notebook_tqdm\n"
     ]
    }
   ],
   "source": [
    "import numpy as np \n",
    "import pandas as pd\n",
    "import json\n",
    "import os\n",
    "from langdetect import detect #轻量级语言检测库\n",
    "import torch\n",
    "from transformers import  AutoTokenizer,AutoModelForQuestionAnswering #使用huggingface的transformer\n",
    "from datetime import datetime\n",
    "import matplotlib.pyplot as plt\n",
    "import operator\n",
    "import seaborn as sns # matplotlib二次封装的绘图库\n",
    "from wordcloud import WordCloud # 词云绘图库\n",
    "import collections\n",
    "from datasketch import MinHash, MinHashLSHForest # 哈希局部敏感算法库\n",
    "from biobert_embedding.embedding import BiobertEmbedding # huggingface的biobert\n",
    "import torch\n",
    "\n",
    "plt.rcParams[\"font.sans-serif\"]=[\"SimHei\"] #设置字体，保证matplotlib可以显示中文\n",
    "%matplotlib inline\n",
    "\n",
    "from warnings import filterwarnings\n",
    "filterwarnings(\"ignore\")"
   ]
  },
  {
   "cell_type": "markdown",
   "metadata": {},
   "source": [
    "#### 2、数据探索"
   ]
  },
  {
   "cell_type": "markdown",
   "metadata": {},
   "source": [
    "##### 2.1 读入数据"
   ]
  },
  {
   "cell_type": "code",
   "execution_count": 2,
   "metadata": {},
   "outputs": [
    {
     "name": "stdout",
     "output_type": "stream",
     "text": [
      "(1015768, 7)\n"
     ]
    },
    {
     "data": {
      "text/html": [
       "<div>\n",
       "<style scoped>\n",
       "    .dataframe tbody tr th:only-of-type {\n",
       "        vertical-align: middle;\n",
       "    }\n",
       "\n",
       "    .dataframe tbody tr th {\n",
       "        vertical-align: top;\n",
       "    }\n",
       "\n",
       "    .dataframe thead th {\n",
       "        text-align: right;\n",
       "    }\n",
       "</style>\n",
       "<table border=\"1\" class=\"dataframe\">\n",
       "  <thead>\n",
       "    <tr style=\"text-align: right;\">\n",
       "      <th></th>\n",
       "      <th>sha</th>\n",
       "      <th>title</th>\n",
       "      <th>doi</th>\n",
       "      <th>abstract</th>\n",
       "      <th>publish_time</th>\n",
       "      <th>authors</th>\n",
       "      <th>journal</th>\n",
       "    </tr>\n",
       "  </thead>\n",
       "  <tbody>\n",
       "    <tr>\n",
       "      <th>0</th>\n",
       "      <td>d1aafb70c066a2068b02786f8929fd9c900897fb</td>\n",
       "      <td>Clinical features of culture-proven Mycoplasma...</td>\n",
       "      <td>10.1186/1471-2334-1-6</td>\n",
       "      <td>OBJECTIVE: This retrospective chart review des...</td>\n",
       "      <td>2001-07-04</td>\n",
       "      <td>Madani, Tariq A; Al-Ghamdi, Aisha A</td>\n",
       "      <td>BMC Infect Dis</td>\n",
       "    </tr>\n",
       "    <tr>\n",
       "      <th>1</th>\n",
       "      <td>6b0567729c2143a66d737eb0a2f63f2dce2e5a7d</td>\n",
       "      <td>Nitric oxide: a pro-inflammatory mediator in l...</td>\n",
       "      <td>10.1186/rr14</td>\n",
       "      <td>Inflammatory diseases of the respiratory tract...</td>\n",
       "      <td>2000-08-15</td>\n",
       "      <td>Vliet, Albert van der; Eiserich, Jason P; Cros...</td>\n",
       "      <td>Respir Res</td>\n",
       "    </tr>\n",
       "    <tr>\n",
       "      <th>2</th>\n",
       "      <td>06ced00a5fc04215949aa72528f2eeaae1d58927</td>\n",
       "      <td>Surfactant protein-D and pulmonary host defense</td>\n",
       "      <td>10.1186/rr19</td>\n",
       "      <td>Surfactant protein-D (SP-D) participates in th...</td>\n",
       "      <td>2000-08-25</td>\n",
       "      <td>Crouch, Erika C</td>\n",
       "      <td>Respir Res</td>\n",
       "    </tr>\n",
       "    <tr>\n",
       "      <th>3</th>\n",
       "      <td>348055649b6b8cf2b9a376498df9bf41f7123605</td>\n",
       "      <td>Role of endothelin-1 in lung disease</td>\n",
       "      <td>10.1186/rr44</td>\n",
       "      <td>Endothelin-1 (ET-1) is a 21 amino acid peptide...</td>\n",
       "      <td>2001-02-22</td>\n",
       "      <td>Fagan, Karen A; McMurtry, Ivan F; Rodman, David M</td>\n",
       "      <td>Respir Res</td>\n",
       "    </tr>\n",
       "    <tr>\n",
       "      <th>4</th>\n",
       "      <td>5f48792a5fa08bed9f56016f4981ae2ca6031b32</td>\n",
       "      <td>Gene expression in epithelial cells in respons...</td>\n",
       "      <td>10.1186/rr61</td>\n",
       "      <td>Respiratory syncytial virus (RSV) and pneumoni...</td>\n",
       "      <td>2001-05-11</td>\n",
       "      <td>Domachowske, Joseph B; Bonville, Cynthia A; Ro...</td>\n",
       "      <td>Respir Res</td>\n",
       "    </tr>\n",
       "  </tbody>\n",
       "</table>\n",
       "</div>"
      ],
      "text/plain": [
       "                                        sha  \\\n",
       "0  d1aafb70c066a2068b02786f8929fd9c900897fb   \n",
       "1  6b0567729c2143a66d737eb0a2f63f2dce2e5a7d   \n",
       "2  06ced00a5fc04215949aa72528f2eeaae1d58927   \n",
       "3  348055649b6b8cf2b9a376498df9bf41f7123605   \n",
       "4  5f48792a5fa08bed9f56016f4981ae2ca6031b32   \n",
       "\n",
       "                                               title                    doi  \\\n",
       "0  Clinical features of culture-proven Mycoplasma...  10.1186/1471-2334-1-6   \n",
       "1  Nitric oxide: a pro-inflammatory mediator in l...           10.1186/rr14   \n",
       "2    Surfactant protein-D and pulmonary host defense           10.1186/rr19   \n",
       "3               Role of endothelin-1 in lung disease           10.1186/rr44   \n",
       "4  Gene expression in epithelial cells in respons...           10.1186/rr61   \n",
       "\n",
       "                                            abstract publish_time  \\\n",
       "0  OBJECTIVE: This retrospective chart review des...   2001-07-04   \n",
       "1  Inflammatory diseases of the respiratory tract...   2000-08-15   \n",
       "2  Surfactant protein-D (SP-D) participates in th...   2000-08-25   \n",
       "3  Endothelin-1 (ET-1) is a 21 amino acid peptide...   2001-02-22   \n",
       "4  Respiratory syncytial virus (RSV) and pneumoni...   2001-05-11   \n",
       "\n",
       "                                             authors         journal  \n",
       "0                Madani, Tariq A; Al-Ghamdi, Aisha A  BMC Infect Dis  \n",
       "1  Vliet, Albert van der; Eiserich, Jason P; Cros...      Respir Res  \n",
       "2                                    Crouch, Erika C      Respir Res  \n",
       "3  Fagan, Karen A; McMurtry, Ivan F; Rodman, David M      Respir Res  \n",
       "4  Domachowske, Joseph B; Bonville, Cynthia A; Ro...      Respir Res  "
      ]
     },
     "execution_count": 2,
     "metadata": {},
     "output_type": "execute_result"
    }
   ],
   "source": [
    "# 装载数据\n",
    "df=pd.read_csv('G:/Text_mining/src/metadata.csv', usecols=['title','journal','abstract','authors','doi','publish_time','sha'])\n",
    "# 填充缺省值\n",
    "df=df.fillna('N/A')\n",
    "print(df.shape)\n",
    "df.head(5)"
   ]
  },
  {
   "cell_type": "markdown",
   "metadata": {},
   "source": [
    "##### 2.2 观察论文发表年份"
   ]
  },
  {
   "cell_type": "code",
   "execution_count": 3,
   "metadata": {},
   "outputs": [
    {
     "data": {
      "image/png": "[encoded data removed]",
      "text/plain": [
       "<Figure size 800x400 with 1 Axes>"
      ]
     },
     "metadata": {
      "needs_background": "light"
     },
     "output_type": "display_data"
    }
   ],
   "source": [
    "time = {}\n",
    "\n",
    "for index, row in df.iterrows():\n",
    "    date = row['publish_time']\n",
    "    if date == 'N/A':\n",
    "        publish = 'N/A'\n",
    "    elif date.find(\"-\") != -1:\n",
    "        publish = datetime.strptime(date, \"%Y-%m-%d\").strftime(\"%Y\")\n",
    "    else:\n",
    "        publish = datetime.strptime(date, \"%Y\").strftime(\"%Y\")\n",
    "\n",
    "    if publish not in time:\n",
    "        time[publish] = 1\n",
    "    else:\n",
    "        time[publish] += 1\n",
    "\n",
    "publish_time = []\n",
    "for key,value in time.items():\n",
    "    if key == \"N/A\" or eval(key)>2022 or eval(key)<2015:\n",
    "        continue\n",
    "    for i in range(time[key]):\n",
    "        publish_time.append([key,time[key]])\n",
    "publish_time = pd.DataFrame(publish_time,columns = ['year','numbers'])\n",
    "\n",
    "fig,ax = plt.subplots(figsize=(10,5), dpi=80)\n",
    "ax.set_title(\"发表年分分布图\")\n",
    "sns.countplot(data=publish_time,x='year')\n",
    "for p in ax.patches:\n",
    "    ax.annotate(f'  {p.get_height()}', (p.get_x(), p.get_height()+80), color='black', size=12)\n",
    "plt.show()\n"
   ]
  },
  {
   "cell_type": "markdown",
   "metadata": {},
   "source": [
    "\n",
    "从结果可以看到，相关论文在2020年以后呈爆发式增长，增长幅度超过3000%。\n",
    "\n",
    "可以看到尽管22年刚刚过去5个月，今年发表的相关论文已经达到近十万篇。"
   ]
  },
  {
   "cell_type": "markdown",
   "metadata": {},
   "source": [
    "##### 2.3 观察论文来源"
   ]
  },
  {
   "cell_type": "code",
   "execution_count": 4,
   "metadata": {},
   "outputs": [
    {
     "data": {
      "image/png": "[encoded data removed]",
      "text/plain": [
       "<Figure size 1040x560 with 1 Axes>"
      ]
     },
     "metadata": {
      "needs_background": "light"
     },
     "output_type": "display_data"
    }
   ],
   "source": [
    "journal = {}\n",
    "\n",
    "for index, row in df.iterrows():\n",
    "    paper_from = row['journal']\n",
    "\n",
    "    if paper_from not in journal:\n",
    "        journal[paper_from] = 1\n",
    "    else:\n",
    "        journal[paper_from] += 1\n",
    "\n",
    "journal1 = dict(sorted(journal.items(), key=operator.itemgetter(1),reverse=True))\n",
    "num=0\n",
    "paper_from = []\n",
    "for key,value in journal1.items():\n",
    "    if key == \"N/A\":\n",
    "        continue\n",
    "    num+=1\n",
    "    for i in range(journal1[key]):\n",
    "        paper_from.append([key,journal[key]])\n",
    "    if num==20:\n",
    "        break\n",
    "paper_from = pd.DataFrame(paper_from,columns = ['journal','numbers'])  \n",
    "\n",
    "fig,ax = plt.subplots(figsize=(13,7), dpi=80)\n",
    "ax.set_title(\"论文来源分布图\")\n",
    "sns.countplot(data=paper_from,y='journal')\n",
    "plt.show()"
   ]
  },
  {
   "cell_type": "markdown",
   "metadata": {},
   "source": [
    "其中Plos One来源数目最多，据调查PLoS（美国科学公共图书馆的简称）是系列期刊中的综合性开源期刊，于2006年创刊在线出版论文，刊载一切科学与医学领域的有价值的成果。"
   ]
  },
  {
   "cell_type": "markdown",
   "metadata": {},
   "source": [
    "##### 2.4 生成词云"
   ]
  },
  {
   "cell_type": "code",
   "execution_count": 5,
   "metadata": {},
   "outputs": [
    {
     "data": {
      "image/png": "[encoded data removed]",
      "text/plain": [
       "<Figure size 432x288 with 1 Axes>"
      ]
     },
     "metadata": {
      "needs_background": "light"
     },
     "output_type": "display_data"
    }
   ],
   "source": [
    "result_list = []\n",
    "# 去除停用词和重复词\n",
    "stopwords = ['on','in','by','and','be','of','the','for','a','an','with','A','The','during','from','as','de','among','review','With','-','An','la','New','en'\n",
    "    ,'to','at','2','How','is','or','between','From','Case','use','Use','through','Among','new','Is','Using','During','after', 'Review','report','based','In'\n",
    "    ,'its','(COVID-19)','covid-19:']\n",
    "\n",
    "for index, row in df.iterrows():\n",
    "    title = row['title'].split()\n",
    "    for word in title:\n",
    "        if word in stopwords:\n",
    "            continue\n",
    "        result_list.append(word.lower()) # 只要小写\n",
    "\n",
    "\n",
    "# 筛选后统计\n",
    "word_counts = collections.Counter(result_list)\n",
    "# 获取前100最高频的词\n",
    "word_counts_top100 = word_counts.most_common(120)\n",
    "\n",
    "# 绘制词云\n",
    "my_cloud = WordCloud(\n",
    "    background_color='white',  # 设置背景颜色  默认是black\n",
    "    width=900, height=600,\n",
    "    max_words=100,            # 词云显示的最大词语数量\n",
    "    max_font_size=99,         # 设置字体最大值\n",
    "    min_font_size=16,         # 设置子图最小值\n",
    "    random_state=50           # 设置随机生成状态，即多少种配色方案\n",
    ").generate_from_frequencies(word_counts)\n",
    "\n",
    "# 显示生成的词云图片\n",
    "plt.imshow(my_cloud, interpolation='bilinear')\n",
    "# 显示设置词云图中无坐标轴\n",
    "plt.axis('off')\n",
    "plt.show()"
   ]
  },
  {
   "cell_type": "markdown",
   "metadata": {},
   "source": [
    "文章题目的词云图如上（已进行停词和重复词去除），可以看到covid-19和sars-cov-2这两个词出现最多，其次如pandemic、impact、clinical等疫情相关词汇出现也比较多。"
   ]
  },
  {
   "cell_type": "markdown",
   "metadata": {},
   "source": [
    "#### 3.数据清洗\n",
    "\n",
    "这部分主要包括：\n",
    "\n",
    "- 保留'conv'相关论文\n",
    "  - by 字符匹配\n",
    "- 保留2020年及以后表表的论文\n",
    "  - by Dataframe遍历筛选\n",
    "- 数据去重\n",
    "  - by drop_duplicates()函数\n",
    "- 字符转小写\n",
    "  - by str.lower()\n",
    "- 检索条件相关\n",
    "  - by 字符串检索: str.find()\n",
    "- 去除非英文文献\n",
    "  - by langdetect第三方库\n",
    "- 去停词和标点符号\n",
    "  - 停词来源：https://blog.csdn.net/shijiebei2009/article/details/39696523 (不能删数字)"
   ]
  },
  {
   "cell_type": "markdown",
   "metadata": {},
   "source": [
    "##### 3.1 年份和标题清洗"
   ]
  },
  {
   "cell_type": "code",
   "execution_count": 6,
   "metadata": {},
   "outputs": [
    {
     "name": "stdout",
     "output_type": "stream",
     "text": [
      "原有数据： (1015768, 7)\n",
      "数据清洗后： (352435, 7)\n"
     ]
    },
    {
     "data": {
      "text/html": [
       "<div>\n",
       "<style scoped>\n",
       "    .dataframe tbody tr th:only-of-type {\n",
       "        vertical-align: middle;\n",
       "    }\n",
       "\n",
       "    .dataframe tbody tr th {\n",
       "        vertical-align: top;\n",
       "    }\n",
       "\n",
       "    .dataframe thead th {\n",
       "        text-align: right;\n",
       "    }\n",
       "</style>\n",
       "<table border=\"1\" class=\"dataframe\">\n",
       "  <thead>\n",
       "    <tr style=\"text-align: right;\">\n",
       "      <th></th>\n",
       "      <th>sha</th>\n",
       "      <th>title</th>\n",
       "      <th>doi</th>\n",
       "      <th>abstract</th>\n",
       "      <th>publish_time</th>\n",
       "      <th>authors</th>\n",
       "      <th>journal</th>\n",
       "    </tr>\n",
       "  </thead>\n",
       "  <tbody>\n",
       "    <tr>\n",
       "      <th>8201</th>\n",
       "      <td>04383994da0f349f314e59c9a414a9c8cc5b4448</td>\n",
       "      <td>baricitinib - a januase kinase inhibitor - not...</td>\n",
       "      <td>10.1016/j.ijantimicag.2020.105967</td>\n",
       "      <td>• several studies suggested baricitinib as a p...</td>\n",
       "      <td>2020-04-04</td>\n",
       "      <td>Praveen, D.; Chowdary, Puvvada Ranadheer; Aana...</td>\n",
       "      <td>Int J Antimicrob Agents</td>\n",
       "    </tr>\n",
       "    <tr>\n",
       "      <th>10710</th>\n",
       "      <td>N/A</td>\n",
       "      <td>artificial intelligence (ai) applications for ...</td>\n",
       "      <td>10.1016/j.dsx.2020.04.012</td>\n",
       "      <td>background and aims: healthcare delivery requi...</td>\n",
       "      <td>2020-04-14</td>\n",
       "      <td>Vaishya, Raju; Javaid, Mohd; Khan, Ibrahim Hal...</td>\n",
       "      <td>Diabetes Metab Syndr</td>\n",
       "    </tr>\n",
       "    <tr>\n",
       "      <th>10822</th>\n",
       "      <td>322478c3c7cc2498a928597f28aea6c0aa39c5ea</td>\n",
       "      <td>coronavirus disease: challenges for psychiatry</td>\n",
       "      <td>10.1192/bjp.2020.86</td>\n",
       "      <td>coronavirus disease (covid-19) presents two ur...</td>\n",
       "      <td>2020-04-15</td>\n",
       "      <td>Kelly, Brendan D.</td>\n",
       "      <td>N/A</td>\n",
       "    </tr>\n",
       "    <tr>\n",
       "      <th>10846</th>\n",
       "      <td>d049cc13cfc0854eef6913f1c11eece8792b89fc</td>\n",
       "      <td>practical considerations when performing neuro...</td>\n",
       "      <td>10.1080/21646821.2020.1756132</td>\n",
       "      <td>the coronavirus disease 2019, sars-cov-2 (the ...</td>\n",
       "      <td>2020-05-06</td>\n",
       "      <td>Haines, Seline; Caccamo, Amy; Chan, Fonda; Gal...</td>\n",
       "      <td>Neurodiagn J</td>\n",
       "    </tr>\n",
       "    <tr>\n",
       "      <th>11573</th>\n",
       "      <td>83f1f588d9b4176873e39dfe0fd3e4db7bb0161e</td>\n",
       "      <td>extracorporeal life support organization coron...</td>\n",
       "      <td>10.1097/mat.0000000000001193</td>\n",
       "      <td>the extracorporeal life support organization (...</td>\n",
       "      <td>2020-05-12</td>\n",
       "      <td>Shekar, Kiran; Badulak, Jenelle; Peek, Giles; ...</td>\n",
       "      <td>ASAIO J</td>\n",
       "    </tr>\n",
       "  </tbody>\n",
       "</table>\n",
       "</div>"
      ],
      "text/plain": [
       "                                            sha  \\\n",
       "8201   04383994da0f349f314e59c9a414a9c8cc5b4448   \n",
       "10710                                       N/A   \n",
       "10822  322478c3c7cc2498a928597f28aea6c0aa39c5ea   \n",
       "10846  d049cc13cfc0854eef6913f1c11eece8792b89fc   \n",
       "11573  83f1f588d9b4176873e39dfe0fd3e4db7bb0161e   \n",
       "\n",
       "                                                   title  \\\n",
       "8201   baricitinib - a januase kinase inhibitor - not...   \n",
       "10710  artificial intelligence (ai) applications for ...   \n",
       "10822     coronavirus disease: challenges for psychiatry   \n",
       "10846  practical considerations when performing neuro...   \n",
       "11573  extracorporeal life support organization coron...   \n",
       "\n",
       "                                     doi  \\\n",
       "8201   10.1016/j.ijantimicag.2020.105967   \n",
       "10710          10.1016/j.dsx.2020.04.012   \n",
       "10822                10.1192/bjp.2020.86   \n",
       "10846      10.1080/21646821.2020.1756132   \n",
       "11573       10.1097/mat.0000000000001193   \n",
       "\n",
       "                                                abstract publish_time  \\\n",
       "8201   • several studies suggested baricitinib as a p...   2020-04-04   \n",
       "10710  background and aims: healthcare delivery requi...   2020-04-14   \n",
       "10822  coronavirus disease (covid-19) presents two ur...   2020-04-15   \n",
       "10846  the coronavirus disease 2019, sars-cov-2 (the ...   2020-05-06   \n",
       "11573  the extracorporeal life support organization (...   2020-05-12   \n",
       "\n",
       "                                                 authors  \\\n",
       "8201   Praveen, D.; Chowdary, Puvvada Ranadheer; Aana...   \n",
       "10710  Vaishya, Raju; Javaid, Mohd; Khan, Ibrahim Hal...   \n",
       "10822                                  Kelly, Brendan D.   \n",
       "10846  Haines, Seline; Caccamo, Amy; Chan, Fonda; Gal...   \n",
       "11573  Shekar, Kiran; Badulak, Jenelle; Peek, Giles; ...   \n",
       "\n",
       "                       journal  \n",
       "8201   Int J Antimicrob Agents  \n",
       "10710     Diabetes Metab Syndr  \n",
       "10822                      N/A  \n",
       "10846             Neurodiagn J  \n",
       "11573                  ASAIO J  "
      ]
     },
     "execution_count": 6,
     "metadata": {},
     "output_type": "execute_result"
    }
   ],
   "source": [
    "def search_focus(df):\n",
    "    '''\n",
    "    仅保留包含关键词语的论文\n",
    "    '''\n",
    "    dfa = df[df['abstract'].str.contains('covid')]\n",
    "    dfb = df[df['abstract'].str.contains('-cov-2')]\n",
    "    dfc = df[df['abstract'].str.contains('cov2')]\n",
    "    dfd = df[df['abstract'].str.contains('ncov')]\n",
    "    frames=[dfa,dfb,dfc,dfd]\n",
    "    df = pd.concat(frames)\n",
    "    df=df.drop_duplicates(subset='title', keep=\"first\")\n",
    "    return df\n",
    "\n",
    "def year_focus(df):\n",
    "    '''\n",
    "    仅保留2020年及以后的论文\n",
    "    '''\n",
    "    dfa = df[df['publish_time'].str.contains('2020')]\n",
    "    dfb = df[df['publish_time'].str.contains('2021')]\n",
    "    dfc = df[df['publish_time'].str.contains('2022')]\n",
    "    frames=[dfa,dfb,dfc]\n",
    "    df = pd.concat(frames)\n",
    "    df=df.drop_duplicates(subset='title', keep=\"first\")\n",
    "    return df \n",
    "    \n",
    "print(\"原有数据：\",df.shape)\n",
    "# 数据去重\n",
    "df = df.drop_duplicates(subset='title', keep=\"first\")\n",
    "# df = df.drop_duplicates(subset='sha', keep=\"first\")\n",
    "# 将字符变小写\n",
    "df[\"abstract\"] = df[\"abstract\"].str.lower()\n",
    "df[\"title\"] = df[\"title\"].str.lower()\n",
    "df = search_focus(df)\n",
    "df = year_focus(df)\n",
    "print(\"数据清洗后：\",df.shape)\n",
    "# 数据展示\n",
    "df.head(5)"
   ]
  },
  {
   "cell_type": "markdown",
   "metadata": {},
   "source": [
    "##### 3.2 将文献的标题和摘要合并"
   ]
  },
  {
   "cell_type": "code",
   "execution_count": 7,
   "metadata": {},
   "outputs": [
    {
     "name": "stdout",
     "output_type": "stream",
     "text": [
      "预处理完毕\n"
     ]
    },
    {
     "data": {
      "text/html": [
       "<div>\n",
       "<style scoped>\n",
       "    .dataframe tbody tr th:only-of-type {\n",
       "        vertical-align: middle;\n",
       "    }\n",
       "\n",
       "    .dataframe tbody tr th {\n",
       "        vertical-align: top;\n",
       "    }\n",
       "\n",
       "    .dataframe thead th {\n",
       "        text-align: right;\n",
       "    }\n",
       "</style>\n",
       "<table border=\"1\" class=\"dataframe\">\n",
       "  <thead>\n",
       "    <tr style=\"text-align: right;\">\n",
       "      <th></th>\n",
       "      <th>sha</th>\n",
       "      <th>abstract</th>\n",
       "    </tr>\n",
       "  </thead>\n",
       "  <tbody>\n",
       "    <tr>\n",
       "      <th>0</th>\n",
       "      <td>04383994da0f349f314e59c9a414a9c8cc5b4448</td>\n",
       "      <td>• several studies suggested baricitinib as a p...</td>\n",
       "    </tr>\n",
       "    <tr>\n",
       "      <th>1</th>\n",
       "      <td>N/A</td>\n",
       "      <td>background and aims: healthcare delivery requi...</td>\n",
       "    </tr>\n",
       "    <tr>\n",
       "      <th>2</th>\n",
       "      <td>322478c3c7cc2498a928597f28aea6c0aa39c5ea</td>\n",
       "      <td>coronavirus disease (covid-19) presents two ur...</td>\n",
       "    </tr>\n",
       "    <tr>\n",
       "      <th>3</th>\n",
       "      <td>d049cc13cfc0854eef6913f1c11eece8792b89fc</td>\n",
       "      <td>the coronavirus disease 2019, sars-cov-2 (the ...</td>\n",
       "    </tr>\n",
       "    <tr>\n",
       "      <th>4</th>\n",
       "      <td>83f1f588d9b4176873e39dfe0fd3e4db7bb0161e</td>\n",
       "      <td>the extracorporeal life support organization (...</td>\n",
       "    </tr>\n",
       "  </tbody>\n",
       "</table>\n",
       "</div>"
      ],
      "text/plain": [
       "                                        sha  \\\n",
       "0  04383994da0f349f314e59c9a414a9c8cc5b4448   \n",
       "1                                       N/A   \n",
       "2  322478c3c7cc2498a928597f28aea6c0aa39c5ea   \n",
       "3  d049cc13cfc0854eef6913f1c11eece8792b89fc   \n",
       "4  83f1f588d9b4176873e39dfe0fd3e4db7bb0161e   \n",
       "\n",
       "                                            abstract  \n",
       "0  • several studies suggested baricitinib as a p...  \n",
       "1  background and aims: healthcare delivery requi...  \n",
       "2  coronavirus disease (covid-19) presents two ur...  \n",
       "3  the coronavirus disease 2019, sars-cov-2 (the ...  \n",
       "4  the extracorporeal life support organization (...  "
      ]
     },
     "execution_count": 7,
     "metadata": {},
     "output_type": "execute_result"
    }
   ],
   "source": [
    "all_related_paper = []\n",
    "for index, row in df.iterrows():\n",
    "    sentences = row['abstract']+row['title']\n",
    "    all_related_paper.append([row['sha'],sentences])\n",
    "# print(all_related_paper)\n",
    "\n",
    "all_related_paper = pd.DataFrame(all_related_paper,columns = ['sha','abstract'])\n",
    "all_related_paper = all_related_paper.drop_duplicates(subset='abstract', keep=\"first\")\n",
    "print(\"预处理完毕\")\n",
    "all_related_paper.head(5)"
   ]
  },
  {
   "cell_type": "markdown",
   "metadata": {},
   "source": [
    "##### 3.3 针对所有文本进行特征构建"
   ]
  },
  {
   "cell_type": "markdown",
   "metadata": {},
   "source": [
    "在pdf_json文件中提供了众多已经标注好全文的数据，将其相关文章的全文提取出来，并进行特征构建。\n",
    "\n",
    "但是，在处理过程中我发现使用全部文章内容并不是一个好的选择。下图展示了一篇医疗文献的各小节标题：\n",
    "\n",
    "\n",
    "<div align=center>\n",
    "<img src=\"pic\\图片2.png\" style=\"zoom:80%\" />\n",
    "</div>\n",
    "\n",
    "由于医学文献和计算机相关文献写作风格迥异，小节标题也不是按照“引言”、“相关工作”、“方法”、“结论”等我认知的格式进行文章撰写。而且由于本次任务为问答，而待问答段落的质量也决定问答的好坏，因此我设置在[\"ABSTRACT\",\"CONCLUSION\",\"METHOD\",\"INFECT\",\"EFFECT\",\"FACTOR\",\"ANALY\",\"DIFFER\",\"RESULT\"]段落中进行问答，舍弃其他段落。选择这些段落的原因很简单，这些段落中强调本篇文献获得的结果概率比较高。\n",
    "\n",
    "匹配方法是首先将题目大写，并寻找上述关键词是否出现在标题中，若出现则使用。匹配举例如下：\n",
    "\n",
    "<div align=center>\n",
    "<img src=\"pic\\图片3.png\" style=\"zoom:20%\" />\n",
    "</div>"
   ]
  },
  {
   "cell_type": "code",
   "execution_count": 8,
   "metadata": {},
   "outputs": [
    {
     "name": "stdout",
     "output_type": "stream",
     "text": [
      "全文预处理完毕\n"
     ]
    },
    {
     "data": {
      "text/html": [
       "<div>\n",
       "<style scoped>\n",
       "    .dataframe tbody tr th:only-of-type {\n",
       "        vertical-align: middle;\n",
       "    }\n",
       "\n",
       "    .dataframe tbody tr th {\n",
       "        vertical-align: top;\n",
       "    }\n",
       "\n",
       "    .dataframe thead th {\n",
       "        text-align: right;\n",
       "    }\n",
       "</style>\n",
       "<table border=\"1\" class=\"dataframe\">\n",
       "  <thead>\n",
       "    <tr style=\"text-align: right;\">\n",
       "      <th></th>\n",
       "      <th>sha</th>\n",
       "      <th>abstract</th>\n",
       "      <th>text</th>\n",
       "    </tr>\n",
       "  </thead>\n",
       "  <tbody>\n",
       "    <tr>\n",
       "      <th>0</th>\n",
       "      <td>N/A</td>\n",
       "      <td>background and aims: healthcare delivery requi...</td>\n",
       "      <td>background and aims: healthcare delivery requi...</td>\n",
       "    </tr>\n",
       "    <tr>\n",
       "      <th>1</th>\n",
       "      <td>d049cc13cfc0854eef6913f1c11eece8792b89fc</td>\n",
       "      <td>the coronavirus disease 2019, sars-cov-2 (the ...</td>\n",
       "      <td>CONCLUSIONS These are trying times presenting ...</td>\n",
       "    </tr>\n",
       "    <tr>\n",
       "      <th>2</th>\n",
       "      <td>83f1f588d9b4176873e39dfe0fd3e4db7bb0161e</td>\n",
       "      <td>the extracorporeal life support organization (...</td>\n",
       "      <td>Infection Control and Staff Safety The modes o...</td>\n",
       "    </tr>\n",
       "    <tr>\n",
       "      <th>3</th>\n",
       "      <td>670f5fc39bbb8591f12fbd8b4192ca3f12dd8791</td>\n",
       "      <td>objective: the coronavirus disease 2019 (covid...</td>\n",
       "      <td>METHODS A retrospective review of the imaging ...</td>\n",
       "    </tr>\n",
       "    <tr>\n",
       "      <th>4</th>\n",
       "      <td>e03ae7fce133152166d6d9f4486dc1668a1e0d7b</td>\n",
       "      <td>as a global crisis, covid-19 has underscored t...</td>\n",
       "      <td>Conclusions: a new role for creative communica...</td>\n",
       "    </tr>\n",
       "  </tbody>\n",
       "</table>\n",
       "</div>"
      ],
      "text/plain": [
       "                                        sha  \\\n",
       "0                                       N/A   \n",
       "1  d049cc13cfc0854eef6913f1c11eece8792b89fc   \n",
       "2  83f1f588d9b4176873e39dfe0fd3e4db7bb0161e   \n",
       "3  670f5fc39bbb8591f12fbd8b4192ca3f12dd8791   \n",
       "4  e03ae7fce133152166d6d9f4486dc1668a1e0d7b   \n",
       "\n",
       "                                            abstract  \\\n",
       "0  background and aims: healthcare delivery requi...   \n",
       "1  the coronavirus disease 2019, sars-cov-2 (the ...   \n",
       "2  the extracorporeal life support organization (...   \n",
       "3  objective: the coronavirus disease 2019 (covid...   \n",
       "4  as a global crisis, covid-19 has underscored t...   \n",
       "\n",
       "                                                text  \n",
       "0  background and aims: healthcare delivery requi...  \n",
       "1  CONCLUSIONS These are trying times presenting ...  \n",
       "2  Infection Control and Staff Safety The modes o...  \n",
       "3  METHODS A retrospective review of the imaging ...  \n",
       "4  Conclusions: a new role for creative communica...  "
      ]
     },
     "execution_count": 8,
     "metadata": {},
     "output_type": "execute_result"
    }
   ],
   "source": [
    "def format_body(body_text):\n",
    "    '''获得文章的全部文本'''\n",
    "    texts = [(di['section'], di['text']) for di in body_text]\n",
    "    texts_di = {di['section']: \"\" for di in body_text}\n",
    "    \n",
    "    for section, text in texts:\n",
    "        texts_di[section] += text\n",
    "\n",
    "    body = \"\"\n",
    "\n",
    "    # 需要的段落\n",
    "    need = [\"ABSTRACT\",\"CONCLUSION\",\"METHOD\",\"INFECT\",\"EFFECT\",\"FACTOR\",\"ANALY\",\"DIFFER\",\"RESULT\"]\n",
    "\n",
    "    for section, text in texts_di.items():\n",
    "        \n",
    "        flag = 0\n",
    "        for ne in need:\n",
    "            if section.upper().find(ne)!=-1: # 将文献小节题目大写\n",
    "                flag = 1\n",
    "                break\n",
    "        if flag:\n",
    "            body += section # ABSTRACT,BACKGROUND,CASE,CONCLUSION,DISSCUSION, etc.\n",
    "            body += \" \"\n",
    "            body += text\n",
    "            body += \"\\n\\n\"\n",
    "        \n",
    "    \n",
    "    return body\n",
    "\n",
    "Candidate_articles = []\n",
    "\n",
    "\n",
    "for index, row in all_related_paper.iterrows():\n",
    "    # 如果文本有全文，则使用全文\n",
    "    if 'N/A' not in row['sha'] and os.path.exists('pdf_json/'+row['sha']+'.json')==True:\n",
    "        with open('pdf_json/'+row['sha']+'.json') as json_file:\n",
    "            data = json.load(json_file)\n",
    "            body=format_body(data['body_text'])\n",
    "            try:\n",
    "                if detect(body) != 'en': # 只保留英文文本\n",
    "                    continue\n",
    "                # print(body)\n",
    "                Candidate_articles.append([row['sha'],row['abstract'],body])\n",
    "            except:\n",
    "                pass\n",
    "    # 否则只使用文献标题+摘要\n",
    "    else:\n",
    "        Candidate_articles.append([row['sha'],row['abstract'],row['abstract']])\n",
    "\n",
    "Candidate_articles = pd.DataFrame(Candidate_articles,columns = ['sha','abstract','text'])\n",
    "print(\"全文预处理完毕\")\n",
    "Candidate_articles.head(5)"
   ]
  },
  {
   "cell_type": "markdown",
   "metadata": {},
   "source": [
    "##### 3.4 去掉停用词和标点符号"
   ]
  },
  {
   "cell_type": "code",
   "execution_count": 9,
   "metadata": {},
   "outputs": [],
   "source": [
    "def drop_stopwords(sentence):\n",
    "    '''去掉停用词\\n\n",
    "    保留了old等\n",
    "    '''\n",
    "    stopwords = []\n",
    "    with open('stopwords.txt','r',encoding='utf-8') as fr:\n",
    "        for i in fr:\n",
    "            stopwords.append(i.strip())\n",
    "    result = ''\n",
    "    for char in sentence.split(\" \"):\n",
    "        if char not in stopwords:\n",
    "            result = result + char+\" \"\n",
    "    return result"
   ]
  },
  {
   "cell_type": "code",
   "execution_count": 10,
   "metadata": {},
   "outputs": [],
   "source": [
    "def removepunc(my_str):\n",
    "    '''去掉标点符号'''\n",
    "    punctuations = '''!()-[]{};:'\"\\,<>./?@#$%^&*_~'''\n",
    "    no_punct = \"\"\n",
    "    for char in my_str:\n",
    "        if char not in punctuations:\n",
    "            no_punct = no_punct + char\n",
    "    return no_punct"
   ]
  },
  {
   "cell_type": "markdown",
   "metadata": {},
   "source": [
    "#### 3.特征筛选\n",
    "\n",
    "具体的，使用局部哈希敏感算法选取候选文章，再使用biobert embedding返回前K个最相似文章"
   ]
  },
  {
   "cell_type": "markdown",
   "metadata": {},
   "source": [
    "##### 3.1 LSH特征构建和文献粗筛\n",
    "\n",
    "需要说明这里只是用了文献的题目+摘要作为特征词库构建，原因如下：\n",
    "- 该部分包含了文章的关键信息\n",
    "- 减少了检索规模，节约时间"
   ]
  },
  {
   "cell_type": "code",
   "execution_count": 11,
   "metadata": {},
   "outputs": [],
   "source": [
    "#排列\n",
    "permutations = 128\n",
    "\n",
    "def get_forest(data, perms):\n",
    "    \n",
    "    minhash = []\n",
    "    \n",
    "    for text in data['abstract']:\n",
    "        tokens = removepunc(drop_stopwords(text))\n",
    "        m = MinHash(num_perm=perms)\n",
    "        for s in tokens.split(\" \"):\n",
    "            m.update(s.encode('utf8'))\n",
    "        minhash.append(m)\n",
    "        \n",
    "    forest = MinHashLSHForest(num_perm=perms)\n",
    "    \n",
    "    for i,m in enumerate(minhash):\n",
    "        forest.add(i,m)\n",
    "        \n",
    "    forest.index()\n",
    "    \n",
    "    return forest"
   ]
  },
  {
   "cell_type": "code",
   "execution_count": 12,
   "metadata": {},
   "outputs": [
    {
     "name": "stdout",
     "output_type": "stream",
     "text": [
      "Wall time: 17min 40s\n"
     ]
    }
   ],
   "source": [
    "%%time\n",
    "forest = get_forest(Candidate_articles, permutations)"
   ]
  },
  {
   "cell_type": "code",
   "execution_count": 13,
   "metadata": {},
   "outputs": [],
   "source": [
    "def predict(text, database, perms, num_results, forest):\n",
    "\n",
    "    tokens = removepunc(drop_stopwords(text))\n",
    "    m = MinHash(num_perm=perms)\n",
    "    for s in tokens.split(\" \"):\n",
    "        m.update(s.encode('utf8'))\n",
    "\n",
    "    idx_array = np.array(forest.query(m, num_results))\n",
    "    if len(idx_array) == 0:\n",
    "        return None # 如果问题为空，则返回None\n",
    "\n",
    "    result = database.iloc[idx_array]['text']\n",
    "    \n",
    "    return result"
   ]
  },
  {
   "cell_type": "markdown",
   "metadata": {},
   "source": [
    "提问并检索"
   ]
  },
  {
   "cell_type": "code",
   "execution_count": 14,
   "metadata": {},
   "outputs": [],
   "source": [
    "# 在此提问\n",
    "Question = 'What do we know about risk factors?'"
   ]
  },
  {
   "cell_type": "code",
   "execution_count": 15,
   "metadata": {},
   "outputs": [
    {
     "name": "stdout",
     "output_type": "stream",
     "text": [
      "\n",
      " Top Recommendation(s) is(are) \n",
      " 247810    Analysis of the factors affecting population f...\n",
      "124939    this study aimed to illuminate the implication...\n",
      "63514     this study aimed to determine the interface be...\n",
      "141341    the covid-19 pandemic has significantly reshap...\n",
      "321567    Data Analysis Based on the complex survey desi...\n",
      "                                ...                        \n",
      "94188     objectives: this study aimed to examine the as...\n",
      "298991    CONCLUSIONS CRS is a clinical syndrome which h...\n",
      "229359    as the covid-19 outbreak traveled through vari...\n",
      "42995     background: acute type a aortic dissection (at...\n",
      "176124    covid-19 has had a disproportionate impact on ...\n",
      "Name: text, Length: 500, dtype: object\n",
      "Wall time: 8 ms\n"
     ]
    }
   ],
   "source": [
    "%%time\n",
    "num_recommendations = 500\n",
    "Q = removepunc(drop_stopwords(Question))\n",
    "result = predict(Q, Candidate_articles, permutations, num_recommendations, forest)\n",
    "print('\\n Top Recommendation(s) is(are) \\n', result)"
   ]
  },
  {
   "cell_type": "markdown",
   "metadata": {},
   "source": [
    "根据问题反馈的500篇文章检索如上"
   ]
  },
  {
   "cell_type": "code",
   "execution_count": 16,
   "metadata": {},
   "outputs": [
    {
     "name": "stdout",
     "output_type": "stream",
     "text": [
      "\n"
     ]
    },
    {
     "data": {
      "text/plain": [
       "'Analysis of the factors affecting population flow networks Urban populations in or around the provinces migrate to provincial capital cities or regional cities. Large cities have a strong gravitational force and a large range of influence, affecting regional urban population migration. Figure During-Lockdown, the government strictly controlled population movement, but the demand for employment and for the return of people who travelled before the Spring Festival was urgent, and the migration of urban populations where the pandemic was not serious was still active.In Post-Lockdown, migration was affected by the number of COVID-19infections. In cities with the severe COVID-19 numbers, control measures were more strict, the resumption rates lower, and the corresponding population migration was lower. In addition, population migration in small cities dispersed over time, while the immigration and emigration of the population between large cities offset each other, and urban population inflows was relatively low.Overall, COVID-19 delayed population migration, dispersed the proportion of population migration in time, and interfered with the direction of population migration spatially. However, income levels and the demand for employment were the main driving mechanisms of population migration after the Spring Festival. Income levels were an important mechanism for stimulating the population flows from third and fourth-tier central and western cities to first-tier eastern cities. In addition, people often return home for the New Year due to the traditional culture (Wei et al., 2018) . Fig. 7 The impact mechanism of population flows\\n\\nConclusion Baidu migration applies LBS technology to record the daily dynamic and real-time population flows between cities, becoming important for characterizing geographic behavior. Baidu\\'s daily migration data from 1 January to 31 March 2020, were used in this manuscript. These data were divided into the Pre-Lockdown, During-Lock down and Post-Lock down periods. Time series and geographic network methods were adopted to study migration and its influencing factors under a major public safety incident.The 2020 national migration strength decreased by 39.87% compared with the same period in 2019. The pandemic severely affected population migration. After the \"lockdown\" in Wuhan, population flows were disrupted with outflows effectively controlled. In terms of timing, population migration was affected by holidays and weekends. The national population migration network is bounded by the Hu line which is dense in the east and sparse in the west, showing a diamond structure with Beijing, Shanghai, Guangzhou, Chengdu and Wuhan as the nodes. The urban population migration network is centered on the provincial capital or municipality,showing an obvious \"center-periphery\" structure. Generally, the attractiveness of provincial capital cities is weak, which affects the population migration to provinces.The attractiveness of large cities is strong and affects regional urban population migration. Income is the most important factor affecting large-scale population migration. COVID-19 dispersed the intensity of migration over time and changed the spatial direction of migration. The study helps to support a balanced national, regional economic development pattern for the control of COVID-19.\\n\\n'"
      ]
     },
     "execution_count": 16,
     "metadata": {},
     "output_type": "execute_result"
    }
   ],
   "source": [
    "# print(the_most_related_paper)\n",
    "recommendations=[]\n",
    "for index,value in result.iteritems():\n",
    "    recommendations.append(value)\n",
    "print(\"\")\n",
    "recommendations[0]"
   ]
  },
  {
   "cell_type": "markdown",
   "metadata": {},
   "source": [
    "##### 3.2 使用biobert进行re-ranking\n",
    "\n",
    "biobert安装来自网址：https://pypi.org/project/biobert-embedding/"
   ]
  },
  {
   "cell_type": "code",
   "execution_count": 17,
   "metadata": {},
   "outputs": [
    {
     "name": "stdout",
     "output_type": "stream",
     "text": [
      "1\n",
      "问句编码结果如下：\n"
     ]
    },
    {
     "data": {
      "text/plain": [
       "tensor([ 5.0620e-01, -1.5032e-01, -1.1204e-01, -1.4333e-01, -7.5077e-02,\n",
       "         1.1758e-01,  4.4581e-01,  3.8233e-01,  2.4281e-01, -3.6569e-01,\n",
       "        -1.8751e-01,  3.3460e-01, -6.1388e-01,  9.0671e-02, -5.8183e-01,\n",
       "         1.6712e-02, -1.0591e-01, -1.4329e-01,  3.0434e-01, -1.1389e-01,\n",
       "        -2.0389e-01, -5.7575e-01,  1.1411e-01, -2.6257e-01, -1.1406e-01,\n",
       "         2.6154e-02,  9.4700e-02,  4.1450e-01, -1.5682e-01,  8.9968e-01,\n",
       "        -2.4895e-01,  2.6722e-01, -2.3669e-01,  2.8881e-01, -3.1537e-01,\n",
       "        -1.5317e-01,  5.3776e-02,  2.9761e-01, -2.9380e-01,  3.8691e-02,\n",
       "        -2.0714e-01, -2.7725e-01,  5.2208e-01,  1.7243e-01,  9.5906e-02,\n",
       "        -3.8387e-02, -1.8826e-01, -1.2911e-01, -3.5638e-01,  1.4833e-01,\n",
       "         1.1425e-01, -1.0383e-01,  2.0732e-01,  2.4998e-02, -2.0248e-01,\n",
       "        -2.6193e-01, -1.7994e-01,  4.6365e-02, -2.4758e-01,  2.9631e-01,\n",
       "        -3.2712e-01,  6.4050e-02,  1.7614e-01,  4.8226e-02, -2.0260e-01,\n",
       "         1.0345e-01,  3.5365e-01, -3.5576e-01, -2.3861e-02, -2.4271e-01,\n",
       "         2.7795e-01, -5.0838e-01,  1.0835e-01, -4.3407e-01,  2.1326e-01,\n",
       "        -3.1529e-01,  3.4541e-01,  1.3182e-01,  1.8727e-01,  4.1066e-01,\n",
       "         1.6936e-01,  4.9919e-02,  3.1384e-01,  1.3404e-01, -7.0376e-02,\n",
       "        -7.9124e-02,  7.2281e-02,  1.5213e-01,  8.1051e-02,  2.6898e-01,\n",
       "        -2.3470e-01, -1.2643e-01, -2.5910e-01,  1.9424e-01, -3.6840e-02,\n",
       "         5.0087e-01,  7.6179e-04,  1.8181e-01,  2.6421e-01,  4.3880e-01,\n",
       "        -2.6091e-01,  1.8644e-01,  2.3093e-02,  7.4963e-02,  4.6662e-02,\n",
       "        -2.3255e-01, -8.8826e-02, -1.9965e-01, -2.1620e-01,  5.1904e-01,\n",
       "        -1.7760e-01, -3.5982e-01, -1.0436e-01, -2.5244e-01,  3.9325e-02,\n",
       "        -2.1683e-01,  2.5433e-01,  6.4806e-02,  3.6871e-01, -2.4071e-01,\n",
       "        -1.5927e-01,  1.0307e-01, -1.1927e-01,  1.2459e-01,  8.1069e-02,\n",
       "         3.5488e-01, -1.1073e-01,  1.7458e-01,  5.0103e-01, -2.1844e-01,\n",
       "        -2.0248e-01, -8.7221e-02, -1.9215e-01,  4.5122e-02,  4.6608e-02,\n",
       "         7.2838e-01, -7.6944e-01,  6.1362e-02, -1.2663e+00, -3.4298e-01,\n",
       "        -5.9125e-02, -2.6543e-01,  3.4983e-02,  2.1108e-01,  4.0496e-02,\n",
       "         4.8946e-01, -2.1257e-01, -1.5040e-02,  2.5282e-02,  1.1560e-01,\n",
       "         1.9899e-02, -2.3366e-01, -1.0761e-01,  1.2051e-01, -1.5971e-01,\n",
       "         1.9680e-02, -3.4514e-03, -1.7252e-01, -5.8263e-02, -4.5659e-01,\n",
       "        -2.4669e-01, -1.6991e-01, -5.0199e-01,  2.0001e-01, -8.1794e-02,\n",
       "        -2.4998e-02,  4.3061e-01, -3.0532e-01,  9.4569e-02,  2.5182e-01,\n",
       "        -3.4264e-02,  1.4027e-01, -8.1557e-01,  6.0126e-01, -8.5940e-02,\n",
       "         3.5939e-02,  4.7736e-01,  2.5539e-01, -1.8136e-01,  2.5883e-01,\n",
       "         1.7765e-01, -2.8575e-01, -1.2255e-01, -2.9356e-01, -1.3184e-01,\n",
       "         8.9110e-02,  1.8237e-01,  4.1843e-01,  1.6294e-01,  1.1917e-01,\n",
       "         7.6705e-01, -6.4445e-01, -1.8087e-01, -2.2613e-01, -5.0583e-01,\n",
       "        -3.4281e-01, -2.3752e-01, -2.5031e-01,  1.3673e-01,  2.1126e-01,\n",
       "        -4.1531e-01, -1.3415e-01, -4.3917e-01, -9.8613e-02,  1.4007e-01,\n",
       "        -5.0835e-01,  1.7002e-01,  2.9167e-01,  4.1875e-01, -4.8415e-01,\n",
       "        -6.0611e-01,  4.4721e-01,  3.7235e-01,  2.3631e-01,  5.7919e-02,\n",
       "        -6.2437e-02,  3.0348e-01, -1.7025e-01, -1.6031e-01, -1.6728e-01,\n",
       "        -2.0629e-02, -2.0993e-01,  3.4766e-01, -3.7072e-02,  1.2766e-01,\n",
       "        -2.2684e-01,  5.5626e-01,  5.1901e-01, -1.6483e-01,  1.5880e-01,\n",
       "         3.6193e-01,  4.7099e-01, -1.2286e-01, -2.9279e-01, -2.5623e-01,\n",
       "         5.6965e-02, -1.7970e-01,  1.3269e-01, -4.2699e-01,  3.4122e-01,\n",
       "        -6.1955e-01,  9.3978e-02,  2.6280e-01, -2.2879e-01, -1.1122e-01,\n",
       "         2.1492e-01, -6.1483e-01, -2.1464e-01,  8.3830e-02,  2.3576e-01,\n",
       "         1.2394e-01, -2.5284e-01, -1.2895e-01,  4.1158e-01,  1.8601e-01,\n",
       "        -1.3611e-01,  1.2673e-01, -1.2094e-01, -3.7399e-01, -2.3050e-01,\n",
       "         7.5543e-02, -1.7458e-01,  2.8453e-01, -6.7763e-02, -1.9639e-01,\n",
       "         7.3934e-02, -2.5398e-01, -9.3467e-02, -2.0366e-01, -2.4520e-01,\n",
       "        -4.3299e-01,  2.8537e-01, -2.3849e-01,  3.6233e-01, -2.0885e-01,\n",
       "         1.0956e-01,  6.2029e-01, -3.9726e-01,  1.3936e-01, -5.0675e-02,\n",
       "        -5.7512e-01, -3.3578e-01, -1.6772e-01,  6.0195e-01, -1.5704e-01,\n",
       "        -1.6107e-01,  3.1323e-01,  2.2534e-01, -2.1248e-01, -3.1870e-02,\n",
       "         1.5780e-01, -4.6925e-01,  5.7260e-02,  2.3662e-01, -4.9248e-02,\n",
       "         2.3174e-01, -5.9618e-01,  1.8659e-01, -3.5613e-03,  1.6895e-01,\n",
       "         5.4001e-01, -4.3222e-01,  3.9683e-01,  1.8034e-01, -5.5442e-01,\n",
       "         1.1672e-01,  4.3711e-02, -4.6218e-02,  2.9049e-01,  1.3072e-01,\n",
       "         3.7503e-01,  4.7711e-02, -3.4229e-01, -2.5110e-01, -4.0724e-01,\n",
       "        -6.5295e-01,  6.8533e-02,  4.0012e-01, -1.4850e-01,  1.7620e-01,\n",
       "         5.0550e-01,  3.8749e-01, -4.8644e-01,  6.2557e-02, -9.4674e-02,\n",
       "        -1.8329e-01,  1.8611e-02, -1.4340e-01,  8.6880e-02, -1.8967e-01,\n",
       "         1.8516e-01, -1.3475e-02,  8.8500e-02, -3.2778e-01, -5.5816e-01,\n",
       "        -4.0140e-02, -3.3604e-01, -3.6192e-02, -2.0414e-03,  4.8836e-01,\n",
       "         1.2202e-01,  2.2699e-01,  1.1561e-01,  2.0099e-01, -1.1781e-02,\n",
       "        -2.0862e-02,  3.1633e-01, -5.9985e-02,  2.0864e-01, -2.1603e-02,\n",
       "         1.5739e-01, -4.7913e-01, -5.8873e-01, -1.4133e-01, -7.5206e-02,\n",
       "         1.0679e-01,  2.0220e-01, -1.6454e-01, -1.2385e-02,  1.2930e-01,\n",
       "         4.2386e-02, -1.4268e-01,  5.5866e-01,  4.2301e-01,  2.1908e-01,\n",
       "        -4.8056e-02, -3.2391e-01,  3.4167e-01, -3.3021e-01,  2.7233e-01,\n",
       "         2.4876e-01, -2.7989e-01,  7.1452e-01,  1.1319e-01, -2.3001e-01,\n",
       "         2.8319e-01, -4.8114e-01,  4.3945e-03, -1.6157e-01, -2.6532e-01,\n",
       "        -1.6165e-02,  1.8507e-01,  7.6533e-02, -2.0861e-01, -2.4045e-01,\n",
       "         3.7389e-01,  6.3752e-02, -2.7123e-01,  1.0723e-01,  2.8459e-01,\n",
       "         7.0519e-02,  3.7634e-02, -1.7015e-01, -1.4541e-01, -6.2119e-04,\n",
       "         4.4954e-03,  5.7021e-01,  1.7686e-01, -3.2514e-01, -6.1668e-01,\n",
       "        -2.1849e-01, -3.5689e-02, -6.2805e-01,  3.5823e-01, -2.0072e-01,\n",
       "        -1.5660e-01, -1.5391e-01,  2.8221e-01,  2.9789e-02,  1.1733e-01,\n",
       "        -4.4837e-01, -3.0372e-01,  3.2610e-01,  5.4495e-02, -3.3068e-01,\n",
       "        -2.3141e-02, -1.5904e-01,  3.4964e-01,  2.3275e-01,  1.4604e-01,\n",
       "         4.3331e-01,  5.7257e-02,  4.0545e-01, -2.6873e-01,  1.7531e-01,\n",
       "        -1.7934e-01, -1.8306e-01, -6.7883e-02,  5.8828e-01,  2.6354e-01,\n",
       "        -3.9687e-01, -2.8622e-01, -3.0079e-02, -1.3211e-01, -2.9013e-01,\n",
       "        -6.0937e-01,  1.1967e-01,  1.1237e-01, -6.9738e-02,  2.9978e-02,\n",
       "        -1.8300e-01, -4.3229e-01,  3.4772e-01, -3.6154e-01, -2.5387e-01,\n",
       "        -3.4883e-01, -5.4743e-03,  9.2398e-02,  1.6754e-01,  1.3112e-01,\n",
       "        -6.9159e-03,  1.3752e-01,  1.5368e-02, -4.8479e-01, -7.0490e-02,\n",
       "         2.4488e-01, -5.1201e-01, -3.0587e-01, -1.5415e-04,  1.6906e-01,\n",
       "        -2.1165e-01, -3.2418e-01, -4.4392e-01,  4.1605e-01,  8.1493e-01,\n",
       "         8.1115e-02, -2.5011e-01,  2.9618e-01,  1.1148e-01, -9.4180e-02,\n",
       "         3.7466e-01, -2.3187e-01,  8.1655e-01,  4.3648e-01, -9.6802e-02,\n",
       "         2.9523e-01,  3.6451e-01,  1.4779e-02, -2.0844e-01,  4.0146e-01,\n",
       "         1.5075e-01,  6.2451e-02,  3.8584e-01,  8.0883e-01, -1.6950e-01,\n",
       "         4.5919e-01,  2.7043e-01,  1.7421e-02,  1.7100e-01, -1.0634e-01,\n",
       "         6.4097e-01,  4.4560e-01,  3.5547e-01, -2.4641e-01,  2.5781e-01,\n",
       "         9.5000e-03, -3.0502e-01,  9.4025e-03,  3.5232e-02,  9.2012e-02,\n",
       "         2.6477e-01,  8.2636e-02,  1.8017e-01,  7.3863e-02, -3.7384e-01,\n",
       "         3.5561e-01, -1.9683e-02,  3.6922e-01,  7.4831e-02, -8.8604e-02,\n",
       "        -3.3818e-01, -9.4200e-01,  4.7650e-01, -1.7765e-01, -5.0608e-01,\n",
       "        -1.7748e-01, -3.3082e-01,  1.6184e-01, -6.2464e-02, -5.5721e-01,\n",
       "         1.1142e-01, -2.6770e-02, -1.0527e-02, -2.7704e-01,  3.8063e-02,\n",
       "        -2.5571e-01,  9.7169e-02,  2.6423e-01, -2.6880e-01, -3.6811e-01,\n",
       "        -1.6240e-01, -4.7516e-01, -3.1290e-01, -1.5919e-01, -2.9110e-02,\n",
       "         2.1526e-01,  6.0182e-03,  9.4159e-02, -1.5428e-01, -1.6499e-01,\n",
       "         2.4568e-01,  4.4198e-01, -1.0046e-01,  1.2374e-01, -1.5331e-02,\n",
       "         3.1428e-01,  1.0325e-01,  4.1394e-02,  4.9732e-01,  4.5763e-01,\n",
       "         9.6785e-02,  3.7911e-01, -5.0597e-01, -2.5142e-01,  3.8637e-02,\n",
       "         1.5844e-01, -5.6493e-01, -7.9079e+00,  3.3065e-01,  2.9614e-01,\n",
       "         2.5980e-01,  7.0096e-02,  1.2333e-01,  5.5739e-01,  2.0560e-01,\n",
       "        -5.0839e-02,  9.2094e-02, -2.1388e-01, -1.7968e-02,  2.1605e-01,\n",
       "         2.7073e-01, -2.4297e-01, -1.6411e-01,  3.1247e-01, -3.6795e-02,\n",
       "         3.3813e-01,  4.5714e-01, -1.0888e-02,  4.9134e-01,  9.1506e-02,\n",
       "         1.8575e-01,  9.6860e-02,  2.8338e-01,  2.5223e-03,  1.3167e-01,\n",
       "         3.6833e-01, -1.9976e-01, -4.2816e-01,  1.5596e-01,  1.2487e-02,\n",
       "        -4.9382e-02,  4.2236e-02, -3.3602e-01,  4.4964e-02, -1.5897e-01,\n",
       "         7.5188e-02, -4.5770e-01,  2.6933e-01,  3.2224e-01,  6.2313e-01,\n",
       "         2.0514e-01,  1.8331e-01, -2.0636e-01,  6.6073e-02, -2.7245e-01,\n",
       "         2.2068e-01,  2.0323e-01,  2.8744e-01, -5.6785e-02, -2.0512e-01,\n",
       "         1.9708e-01, -4.8533e-01,  1.1804e-01, -3.9799e-01, -4.7599e-02,\n",
       "         4.3725e-01, -5.1981e-01, -1.8593e-02, -2.1870e-01,  1.3120e-01,\n",
       "        -5.3626e-01, -1.2833e-01, -2.8040e-01, -3.4099e-01,  2.9628e-02,\n",
       "        -1.7295e-01,  6.9559e-02, -3.8409e-01, -3.2232e-01, -8.9160e-05,\n",
       "         1.5131e-01,  1.9173e-02,  7.9846e-02,  2.8597e-02, -4.0539e-02,\n",
       "         4.1503e-01,  4.1351e-01, -4.9862e-03, -1.0045e-01,  1.5788e-01,\n",
       "         6.9877e-02,  2.1858e-01, -4.3674e-01,  2.8571e-01,  2.4385e-01,\n",
       "        -3.2335e-01,  2.3833e-01,  3.0200e-01, -5.0047e-01, -1.4878e-01,\n",
       "         1.9512e-02, -6.7467e-01,  5.3619e-02,  3.2611e-01,  1.5930e-01,\n",
       "        -3.1349e-01, -4.2612e-03,  2.2051e-01, -2.4749e-03,  1.0676e-01,\n",
       "        -4.0848e-01,  2.7638e-01, -2.7835e-01,  3.2814e-02, -1.6095e-01,\n",
       "        -4.1647e-01, -1.7917e-01,  2.5121e-01,  7.6179e-03, -4.9630e-03,\n",
       "         2.1708e-01,  4.1897e-01,  5.6707e-01,  6.0866e-01, -2.0619e-01,\n",
       "         2.8798e-02, -1.7795e-01,  3.5658e-01,  2.3421e-01, -7.3861e-02,\n",
       "         1.4178e-01, -7.8776e-02, -1.3595e-01,  4.5868e-01, -2.6048e-02,\n",
       "         2.5234e-01,  2.7278e-02,  1.8180e-01,  1.5322e-01, -2.3700e-02,\n",
       "         7.7739e-02,  1.4843e-01,  2.4265e-01,  9.2897e-02, -3.1834e-01,\n",
       "        -1.0833e-01, -2.0994e-01, -6.9481e-02, -8.0843e-02,  4.6112e-02,\n",
       "         3.7057e-01,  4.6197e-01, -3.4019e-02, -1.8137e-01, -1.5355e-01,\n",
       "        -2.8079e-01,  7.5977e-02, -3.8055e-01,  4.3251e-01, -2.5878e-01,\n",
       "         1.4636e-01,  9.0467e-02,  1.7212e-01,  4.2110e-01, -3.8849e-01,\n",
       "        -1.7424e-01,  2.2880e-01, -3.7542e-02,  4.1860e-01, -5.0959e-02,\n",
       "         1.0225e-01, -2.9767e-01,  1.8197e-01, -2.4736e-02, -3.2526e-02,\n",
       "        -2.5812e-01,  6.3149e-02, -3.6829e-01,  6.3083e-02,  1.2222e-01,\n",
       "        -1.5001e-01, -6.0696e-01, -3.4580e-01,  1.3761e-02,  9.0868e-02,\n",
       "         5.4197e-02, -1.4284e-01,  2.8437e-01,  2.0902e-01,  8.0946e-02,\n",
       "        -7.8241e-01, -1.2274e-01,  4.5710e-01, -3.3936e-01, -2.2816e-01,\n",
       "        -8.4382e-02, -1.5324e-01, -7.9118e-02,  1.1687e-01, -1.6326e-01,\n",
       "        -2.1697e-02,  1.2584e-01,  2.6432e-01, -1.0911e-01, -1.3663e-01,\n",
       "        -2.0629e-01,  4.9103e-02,  6.6555e-02, -1.9274e-01,  2.9963e-01,\n",
       "         1.3733e-02, -5.1858e-02, -3.7081e-01,  3.9564e-01, -1.2169e-01,\n",
       "        -6.6643e-02,  1.1801e-01, -1.7237e-01])"
      ]
     },
     "execution_count": 17,
     "metadata": {},
     "output_type": "execute_result"
    }
   ],
   "source": [
    "biobert = BiobertEmbedding()\n",
    "\n",
    "query_vector = biobert.sentence_vector(Q)\n",
    "\n",
    "# 这里输出1是因为我改了一下源码，调试时候输出1，结果忘记改在哪了-_-\n",
    "print(\"问句编码结果如下：\")\n",
    "query_vector"
   ]
  },
  {
   "cell_type": "markdown",
   "metadata": {},
   "source": [
    "由于bert输入最大长度限制为512个词，将所有文本全部输入模型中进行编码显然不现实。一开始设想，将文本按句子(即英文中“.”)进行划分，然而令人吃惊的是，竟然有一个摘要里一个句号也没有，如下图所示：\n",
    "\n",
    "<div align=center>\n",
    "<img src=\"pic\\图片4.png\" style=\"zoom:120%\" />\n",
    "</div>\n",
    "\n",
    "上图摘要中保留有巨大的信息，若直接删去显然也不合理。因此，我将输入文本以60个词进行分割，每60词当作一句进行向量编码，之后再进行余弦相似度计算。对于一个文本中，取最大相似度的结果作为该文本和问句的相似性，并针对500篇进行精排。"
   ]
  },
  {
   "cell_type": "code",
   "execution_count": 18,
   "metadata": {},
   "outputs": [
    {
     "data": {
      "text/html": [
       "<div>\n",
       "<style scoped>\n",
       "    .dataframe tbody tr th:only-of-type {\n",
       "        vertical-align: middle;\n",
       "    }\n",
       "\n",
       "    .dataframe tbody tr th {\n",
       "        vertical-align: top;\n",
       "    }\n",
       "\n",
       "    .dataframe thead th {\n",
       "        text-align: right;\n",
       "    }\n",
       "</style>\n",
       "<table border=\"1\" class=\"dataframe\">\n",
       "  <thead>\n",
       "    <tr style=\"text-align: right;\">\n",
       "      <th></th>\n",
       "      <th>文章</th>\n",
       "      <th>相关度</th>\n",
       "    </tr>\n",
       "  </thead>\n",
       "  <tbody>\n",
       "    <tr>\n",
       "      <th>98</th>\n",
       "      <td>Statistical analysis Descriptive statistics, i...</td>\n",
       "      <td>tensor(0.7710)</td>\n",
       "    </tr>\n",
       "    <tr>\n",
       "      <th>141</th>\n",
       "      <td>mr krishnan: at microbiome labs we found that ...</td>\n",
       "      <td>tensor(0.7697)</td>\n",
       "    </tr>\n",
       "    <tr>\n",
       "      <th>77</th>\n",
       "      <td>Results A total of 2437 cases of TB were repor...</td>\n",
       "      <td>tensor(0.7688)</td>\n",
       "    </tr>\n",
       "    <tr>\n",
       "      <th>287</th>\n",
       "      <td>COVID-19, dementia, lockdown, longitudinal, mo...</td>\n",
       "      <td>tensor(0.7665)</td>\n",
       "    </tr>\n",
       "    <tr>\n",
       "      <th>193</th>\n",
       "      <td>Conclusion The COVID-19 pandemic disrupted glo...</td>\n",
       "      <td>tensor(0.7664)</td>\n",
       "    </tr>\n",
       "  </tbody>\n",
       "</table>\n",
       "</div>"
      ],
      "text/plain": [
       "                                                    文章             相关度\n",
       "98   Statistical analysis Descriptive statistics, i...  tensor(0.7710)\n",
       "141  mr krishnan: at microbiome labs we found that ...  tensor(0.7697)\n",
       "77   Results A total of 2437 cases of TB were repor...  tensor(0.7688)\n",
       "287  COVID-19, dementia, lockdown, longitudinal, mo...  tensor(0.7665)\n",
       "193  Conclusion The COVID-19 pandemic disrupted glo...  tensor(0.7664)"
      ]
     },
     "execution_count": 18,
     "metadata": {},
     "output_type": "execute_result"
    }
   ],
   "source": [
    "Candidate = []\n",
    "\n",
    "for text in recommendations:\n",
    "    passage = text.split(\" \")\n",
    "    similarity_max = 0\n",
    "    for i in range(int(len(passage)/100)):\n",
    "        sentence = \" \".join(passage[i*100:100*(i+1)])\n",
    "        try:\n",
    "            result = biobert.sentence_vector(sentence)\n",
    "            similarity = torch.cosine_similarity(result,query_vector,dim=0)\n",
    "        except:\n",
    "            similarity = 0       \n",
    "        if similarity > similarity_max:\n",
    "            similarity_max = similarity\n",
    "    Candidate.append([text,similarity_max]) \n",
    "\n",
    "Candidate = pd.DataFrame(Candidate,columns=['文章','相关度'])\n",
    "Candidate.sort_values(by=\"相关度\" , inplace=True, ascending=False)\n",
    "Candidate.head(5)"
   ]
  },
  {
   "cell_type": "markdown",
   "metadata": {},
   "source": [
    "上述结果的“相关度”即为问句与文本的相关程度，从大到小依次排序"
   ]
  },
  {
   "cell_type": "code",
   "execution_count": 19,
   "metadata": {},
   "outputs": [
    {
     "name": "stdout",
     "output_type": "stream",
     "text": [
      "最相似文本结果如下：\n"
     ]
    },
    {
     "data": {
      "text/plain": [
       "'Statistical analysis Descriptive statistics, including frequencies, percentages, and univariate analysis (cross-tabulations), were used to measure the distribution of FINS according to the different social and demographic factors. Odds ratios (ORs) and subsequent 95% Confidence intervals were obtained to identify factors responsible for increasing the odds of FINS. Multinomial logistic regressions were used for getting ORs. Chi-square test was conducted to examine the distribution of individuals with different levels of FINS on the weekly consumption of each food-group. The p-value of <0.05 was considered significant. SPSS software for Windows (version 25) (SPSS Inc., Chicago, IL, USA) was used.\\n\\nImportance of the current study and Jordan before Covid-19 vs. our results To our knowledge, this is the first published paper of FINS during the quarantine, alongside the Covid-19 pandemic in Jordan.Accordingly, there was no published data with which to compare the results. These data compare favorably with a report and studies published earlier during the regular, non-pandemic period in Jordan and other countries.In general review, it was reported that lower-and middleincome countries (including jordan) had a percentage of 31.9% for FINS and 12.5% for SFINS. Upper-and middle-income countries had portions of 26.2% and 9.2%, respectively. It was not unexpected that higher percentages would be reported during the quarantine, as our data indicated. Regards to Jordan classification, the word bank stated that \"On July 1st, 2016, the World Bank classified Jordan as an upper-middle-income country. Based on new data, on July 1st, 2017, the World Bank classified Jordan as a lower middle-income country\\'\\' [39] .The results of FINS percentage in our research could refer to many reasons; for example; unavailability of the food especially for long time, limitation on migrant workers who work on the food sectors, the lockdowns and movement control during the quarantine were restricting the physical ability of people to access food and is creating food deserts in most areas, reduced wages and loss of income affecting the most vulnerable, the global price of all products increased as well as in Jordan. As mentioned by, Middle East and East Africa is the regions of conflict and crisis that COVID-19 threatened FS and it was increased the obstacles to food access that created by political and military pressures [40] .Compared with previous researches conducted on the normal situations (in Jordan); cross-sectional research in Northern Jordan reported that 67.6% of the women were FS, and (32.4%) were FINS [24] . However, the sample of Bawadi et al. (n ¼ 500) was only females who attended outpatient clinics and FINS assessment was carried out by using the short form of the USFS survey module. Our [41] . It is agreed that Epidemics (like HIV/AIDS, Ebola, and the Middle East respiratory syndrome) usually increase risks related to FINS [5] . Moreover, the official Jordanian efforts are more directed to identify and investigate areas of FINS at the district level. Furthermore, its target was both rural and urban areas [23] . Our study did not target Jordanians within the poverty reduction program, and refugees. Such group (n ¼ 90,000) reported higher percentages for FINS; vulnerable to FINS (59%) and FINS (11%) [41] . While Jordan is already struggling with significant poverty, inequality, and considered within the middle-income country, a further economic crisis brought about by the Covid-19 pandemic is likely to be disastrous, resulting in the denial of access to diverse and food supply nutritious diet among the adult population (Roberton et al., 2020). The a accumulative effect of the pandemic combined with existing food supply problem first and then nutrition and health problem problems. Thus, this percentage of FI could weaken the efforts to achieving Sustainable Development Goals (SDGs) 2, which emphasizes ending hunger, achieving FS and improving nutrition, and promoting sustainable agriculture. Whatever the percentage of FIN before the pandamic, most references in low and middle income country indicated that this pandamic increase hunger and reduce the FS [10, 14, 16, 20, 42] .\\n\\nConclusion This research concluded that food security is a critical aspect that affected the social and environmental status in Jordan. Quarantine that adopted as protection was against spreading Covid-19 virus should trigger awareness toward individuals at higher risk for food insecurity. The lockdowns may be the only way to halt the spread of the virus, but where social protection is lacking they may have disastrous economic, social, and nutritional consequences and food chain mainly. In such circumstances, around 40% of the population were considered as secured, one-third of the population was moderate food secured, and less than one quarter was severe food insecure. The risk of the severe food insecure was strongly correlated with many factors as monthly income per capita, the number of family members, individuals younger between 18 and 30 years old, and those who lived in rented houses. Regarding the time number of food categories intake per week, carbohydrates and the meat group were the only groups that have significant relation with food insecurity. Overall, Covid-19 affected many food chain in jordan mainly; food production, trade, commerce, and the supply chain which produce adverse consequences on the food security during the pandamic. This predict negative effect on the dietary pattern and nutrient intake of the adult people on the short and long term. If proper precautionary measures are not assumed to address the issues of food supply by taking into consideration the individual economic status (such as the individual income) and the sociodemographic properties such as (education level), this will effect on th poverty level in jordan, inequality, education, health status, which will threaten the achievement of SDGs in 2030.\\n\\n'"
      ]
     },
     "execution_count": 19,
     "metadata": {},
     "output_type": "execute_result"
    }
   ],
   "source": [
    "recommendation = []\n",
    "num = 0\n",
    "for index, row in Candidate.iterrows():\n",
    "    recommendation.append(row['文章']) \n",
    "    num+=1\n",
    "    if num==100:\n",
    "        break\n",
    "print(\"最相似文本结果如下：\")\n",
    "recommendation[0]"
   ]
  },
  {
   "cell_type": "markdown",
   "metadata": {},
   "source": [
    "#### 4. 使用Biobert进行问答\n",
    "\n",
    "网址：https://huggingface.co/ktrapeznikov/biobert_v1.1_pubmed_squad_v2\n",
    "\n",
    "之所以选择biobert，是因为和生物问答领域相关"
   ]
  },
  {
   "cell_type": "code",
   "execution_count": 20,
   "metadata": {},
   "outputs": [],
   "source": [
    "tokenizer = AutoTokenizer.from_pretrained(\"ktrapeznikov/biobert_v1.1_pubmed_squad_v2\")\n",
    "\n",
    "model = AutoModelForQuestionAnswering.from_pretrained(\"ktrapeznikov/biobert_v1.1_pubmed_squad_v2\")"
   ]
  },
  {
   "cell_type": "code",
   "execution_count": 21,
   "metadata": {},
   "outputs": [],
   "source": [
    "def getanswers(question):\n",
    "    '''\n",
    "    获得答案和相关度\n",
    "    '''\n",
    "    questions= []\n",
    "    contexts= []\n",
    "    for bigcontext in recommendations:\n",
    "        bigcontext = bigcontext.split(\" \")\n",
    "        for i in range(int(len(bigcontext)/60)):\n",
    "          contexts.append(\" \".join(bigcontext[i*60:60*(i+1)]))\n",
    "          questions.append(question) # 这里问题不需要做去停词、标点等处理比较好\n",
    "    # num=0\n",
    "    answers = []\n",
    "    for question, context in zip(questions,contexts):\n",
    "      try:\n",
    "        result = ask(question,context)\n",
    "        if len(result[0].split(\" \")) < 10 or '[SEP]' in result[0].split(\" \"): # 回答短于10个词的不要,有本身问句在回答中的不要\n",
    "          continue\n",
    "        # num+=1\n",
    "        answers.append([result[0],result[-2].item()])\n",
    "        # if num==10:\n",
    "        #   break\n",
    "      except:\n",
    "        continue\n",
    "\n",
    "    return answers"
   ]
  },
  {
   "cell_type": "code",
   "execution_count": 22,
   "metadata": {},
   "outputs": [],
   "source": [
    "def ask(question,context):\n",
    "    input_ids = tokenizer.encode(question, context)\n",
    "    sep_index = input_ids.index(tokenizer.sep_token_id)\n",
    "\n",
    "    num_seg_a = sep_index + 1\n",
    "\n",
    "    num_seg_b = len(input_ids) - num_seg_a\n",
    "    # 其中0代表问题，1代表文本\n",
    "    segment_ids = [0]*num_seg_a + [1]*num_seg_b\n",
    "    assert len(segment_ids) == len(input_ids)\n",
    "    tokens = tokenizer.convert_ids_to_tokens(input_ids)\n",
    "    # tokens, for example: ['[CLS]', 'old', 'person', 'risk', '[SEP]', 'age','[SEP]']\n",
    "\n",
    "    outputs = model(input_ids= torch.tensor([input_ids]),token_type_ids=torch.tensor([segment_ids]))\n",
    "\n",
    "    answer_end = 0\n",
    "    answer_start = torch.argmax(outputs.start_logits)\n",
    "    answer_ends = torch.argsort(outputs.end_logits).numpy()[::-1]\n",
    "    for i in answer_ends[0]:\n",
    "        if answer_start<= i:\n",
    "            answer_end= i\n",
    "\n",
    "    answer = ' '.join(tokens[answer_start:answer_end+1])\n",
    "\n",
    "    answer = answer.replace(\" ##\",\"\").replace(\"[CLS] \",\"\")\n",
    "\n",
    "    pack = [answer,answer_start,answer_end,torch.max(outputs.start_logits),outputs.end_logits[0][answer_end],(torch.max(outputs.start_logits)+outputs.end_logits[0][answer_end]),context]\n",
    "    return pack"
   ]
  },
  {
   "cell_type": "markdown",
   "metadata": {},
   "source": [
    "提问并返回问题"
   ]
  },
  {
   "cell_type": "code",
   "execution_count": 23,
   "metadata": {},
   "outputs": [],
   "source": [
    "answers = getanswers(Q)"
   ]
  },
  {
   "cell_type": "markdown",
   "metadata": {},
   "source": [
    "按回答答案的置信度进行排序"
   ]
  },
  {
   "cell_type": "code",
   "execution_count": 24,
   "metadata": {},
   "outputs": [
    {
     "data": {
      "text/html": [
       "<div>\n",
       "<style scoped>\n",
       "    .dataframe tbody tr th:only-of-type {\n",
       "        vertical-align: middle;\n",
       "    }\n",
       "\n",
       "    .dataframe tbody tr th {\n",
       "        vertical-align: top;\n",
       "    }\n",
       "\n",
       "    .dataframe thead th {\n",
       "        text-align: right;\n",
       "    }\n",
       "</style>\n",
       "<table border=\"1\" class=\"dataframe\">\n",
       "  <thead>\n",
       "    <tr style=\"text-align: right;\">\n",
       "      <th></th>\n",
       "      <th>回答</th>\n",
       "      <th>置信度</th>\n",
       "    </tr>\n",
       "  </thead>\n",
       "  <tbody>\n",
       "    <tr>\n",
       "      <th>436</th>\n",
       "      <td>health care , economic , climate , and educati...</td>\n",
       "      <td>10.865486</td>\n",
       "    </tr>\n",
       "    <tr>\n",
       "      <th>323</th>\n",
       "      <td>intensive care unit ( icu ) admission and mech...</td>\n",
       "      <td>10.523109</td>\n",
       "    </tr>\n",
       "    <tr>\n",
       "      <th>204</th>\n",
       "      <td>coronary heart disease , stroke , kidney disea...</td>\n",
       "      <td>10.289715</td>\n",
       "    </tr>\n",
       "    <tr>\n",
       "      <th>584</th>\n",
       "      <td>hospitalization , intensive care unit ( icu ) ...</td>\n",
       "      <td>10.238066</td>\n",
       "    </tr>\n",
       "    <tr>\n",
       "      <th>585</th>\n",
       "      <td>ability to practice social distancing , health...</td>\n",
       "      <td>9.932032</td>\n",
       "    </tr>\n",
       "  </tbody>\n",
       "</table>\n",
       "</div>"
      ],
      "text/plain": [
       "                                                    回答        置信度\n",
       "436  health care , economic , climate , and educati...  10.865486\n",
       "323  intensive care unit ( icu ) admission and mech...  10.523109\n",
       "204  coronary heart disease , stroke , kidney disea...  10.289715\n",
       "584  hospitalization , intensive care unit ( icu ) ...  10.238066\n",
       "585  ability to practice social distancing , health...   9.932032"
      ]
     },
     "execution_count": 24,
     "metadata": {},
     "output_type": "execute_result"
    }
   ],
   "source": [
    "answers = pd.DataFrame(answers,columns = ['回答','置信度'])\n",
    "answers.sort_values(by=\"置信度\" , inplace=True, ascending=False)\n",
    "answers.head(5)"
   ]
  },
  {
   "cell_type": "markdown",
   "metadata": {},
   "source": [
    "输出前20条结果"
   ]
  },
  {
   "cell_type": "code",
   "execution_count": 25,
   "metadata": {},
   "outputs": [
    {
     "name": "stdout",
     "output_type": "stream",
     "text": [
      "问题为： What do we know about risk factors?\n",
      "第1条回答为：health care , economic , climate , and educational disparities\n",
      "第2条回答为：intensive care unit ( icu ) admission and mechanical ventilator usage\n",
      "第3条回答为：coronary heart disease , stroke , kidney disease and congestive heart failure\n",
      "第4条回答为：hospitalization , intensive care unit ( icu ) admission , and mortality\n",
      "第5条回答为：ability to practice social distancing , health capacity and size of vulnerable population\n",
      "第6条回答为：better self - control ability , higher education and good mental health\n",
      "第7条回答为：hypertension , diabetes , chronic obstructive pulmonary disease , cardio - and cerebrovascular disease\n",
      "第8条回答为：hypertension , diabetes , chronic obstructive pulmonary disease , cardio - and cerebrovascular disease\n",
      "第9条回答为：hypertension , diabetes , cardiovascular disease , severe chronic respiratory disease and cancer\n",
      "第10条回答为：high - density living conditions , jobs requiring on - site attendance , under / un - insured status , environmental exposures , and / or insufficient access to quality healthcare\n",
      "第11条回答为：severity of the disease , presence or absence of prophylactic anticoagulants , and the number of anticoagulants prescribed\n",
      "第12条回答为：advanced age , increased modified charlson comorbidity index ( mcci ) score , and prolonged duration of hospitalization\n",
      "第13条回答为：people who can attend the funeral , lack of contact with the corpse , overall travel restrictions and shortened funeral services\n",
      "第14条回答为：food security status , the home food environment and parent feeding practices\n",
      "第15条回答为：number of confirmed cases per million population , number of deaths per million population\n",
      "第16条回答为：low preparedness , high work impact , working with infected residents , personal life impact , and concerns\n",
      "第17条回答为：female gender ( p = 0 . 03 ) and lifestyle ( residence , family environment ) ( p = 0 . 01 )\n",
      "第18条回答为：history of ncds ( number of diseases and combinations ) , severity indicators and type of institution that treated the patient\n",
      "第19条回答为：public transport level of service as well as the frequency of disinfection of vehicles\n",
      "第20条回答为：cardiometabolic risk factor did not differ with that for patients with no cardiometabolic risk factors\n"
     ]
    }
   ],
   "source": [
    "print(\"问题为：\",Question)\n",
    "num =0 \n",
    "for index, row in answers.iterrows():\n",
    "    num+=1\n",
    "    print(\"第{}条回答为：{}\".format(num,row['回答']))\n",
    "    \n",
    "    if num==20:\n",
    "        break"
   ]
  },
  {
   "cell_type": "code",
   "execution_count": 27,
   "metadata": {},
   "outputs": [
    {
     "name": "stdout",
     "output_type": "stream",
     "text": [
      "回答已保存至anwser.txt文件, 总共200条回答。\n"
     ]
    }
   ],
   "source": [
    "num = 0 \n",
    "with open(\"anwser.txt\",\"a\",encoding='utf-8') as f:\n",
    "    for index, row in answers.iterrows():\n",
    "        f.write(row['回答']+\"\\n\")\n",
    "        num+=1\n",
    "        if num==200:\n",
    "            break\n",
    "print(\"回答已保存至anwser.txt文件, 总共200条回答。\")"
   ]
  },
  {
   "cell_type": "markdown",
   "metadata": {},
   "source": [
    "#### 5. 消融实验\n",
    "这里我列举了我进行消融实验的结果，由于没有ground truth，所以没法定量进行评价。这里展示了各模型前10个置信度最高的回答。"
   ]
  },
  {
   "cell_type": "markdown",
   "metadata": {},
   "source": [
    "- TF-IDF + 只使用摘要\n",
    "\n",
    "尽管规定返回10条回答，但biobert就找到9条，证明该配置下文献检索结果不够理想。\n",
    "\n",
    "<div align=center>\n",
    "<img src=\"pic\\5.png\" style=\"zoom:80%\" />\n",
    "</div>"
   ]
  },
  {
   "cell_type": "markdown",
   "metadata": {},
   "source": [
    "- TF-IDF + 使用全文\n",
    "\n",
    "<div align=center>\n",
    "<img src=\"pic\\6.png\" style=\"zoom:80%\" />\n",
    "</div>"
   ]
  },
  {
   "cell_type": "markdown",
   "metadata": {},
   "source": [
    "- LSH + 仅使用摘要\n",
    "\n",
    "<div align=center>\n",
    "<img src=\"pic\\7.png\" style=\"zoom:80%\" />\n",
    "</div>"
   ]
  },
  {
   "cell_type": "markdown",
   "metadata": {},
   "source": [
    "- LSH + 使用全文\n",
    "\n",
    "<div align=center>\n",
    "<img src=\"pic\\8.png\" style=\"zoom:80%\" />\n",
    "</div>"
   ]
  },
  {
   "cell_type": "markdown",
   "metadata": {},
   "source": [
    "#### 6. 总结\n",
    "\n",
    "在本篇文章中，我细致地说明了我是如何针百万篇文献构建基于文本表示的问答模型的。事实上，我首先使用了TF-IDF作为特征粗排，之后利用biobert Embedding进行精排，选出候选文献后进行问答，最终返回问答结果。由于本次实验是以结果的召回率为指标，所以在不考虑检索时间下，使用了基于统计和基于向量的两种结合的方式来提高检索结果。"
   ]
  }
 ],
 "metadata": {
  "interpreter": {
   "hash": "250c120306f9651a88110a3d3550f9272d96cd0492fa1a558faef151b6432bed"
  },
  "kernelspec": {
   "display_name": "Python 3.7.13 ('biobert')",
   "language": "python",
   "name": "python3"
  },
  "language_info": {
   "codemirror_mode": {
    "name": "ipython",
    "version": 3
   },
   "file_extension": ".py",
   "mimetype": "text/x-python",
   "name": "python",
   "nbconvert_exporter": "python",
   "pygments_lexer": "ipython3",
   "version": "3.7.13"
  },
  "orig_nbformat": 4
 },
 "nbformat": 4,
 "nbformat_minor": 2
}
